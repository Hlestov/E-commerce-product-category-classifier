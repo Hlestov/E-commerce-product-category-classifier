{
  "nbformat": 4,
  "nbformat_minor": 0,
  "metadata": {
    "colab": {
      "provenance": [],
      "collapsed_sections": [
        "Wy35QK25y9X7",
        "Byu2RMHEYK5B",
        "-lj_0QjxZcNJ"
      ]
    },
    "kernelspec": {
      "name": "python3",
      "display_name": "Python 3"
    },
    "language_info": {
      "name": "python"
    },
    "gpuClass": "standard",
    "widgets": {
      "application/vnd.jupyter.widget-state+json": {
        "3f58b00380a84ea393b2047b04cf019c": {
          "model_module": "@jupyter-widgets/controls",
          "model_name": "HBoxModel",
          "model_module_version": "1.5.0",
          "state": {
            "_dom_classes": [],
            "_model_module": "@jupyter-widgets/controls",
            "_model_module_version": "1.5.0",
            "_model_name": "HBoxModel",
            "_view_count": null,
            "_view_module": "@jupyter-widgets/controls",
            "_view_module_version": "1.5.0",
            "_view_name": "HBoxView",
            "box_style": "",
            "children": [
              "IPY_MODEL_241a6829481d4e14aa57bb3fdce26dad",
              "IPY_MODEL_c47cc90c35bc4380b6030c0852df60ad",
              "IPY_MODEL_b9cedd1b06834318b679830751b967b5"
            ],
            "layout": "IPY_MODEL_87a7679e269540d397a426f39a1780ba"
          }
        },
        "241a6829481d4e14aa57bb3fdce26dad": {
          "model_module": "@jupyter-widgets/controls",
          "model_name": "HTMLModel",
          "model_module_version": "1.5.0",
          "state": {
            "_dom_classes": [],
            "_model_module": "@jupyter-widgets/controls",
            "_model_module_version": "1.5.0",
            "_model_name": "HTMLModel",
            "_view_count": null,
            "_view_module": "@jupyter-widgets/controls",
            "_view_module_version": "1.5.0",
            "_view_name": "HTMLView",
            "description": "",
            "description_tooltip": null,
            "layout": "IPY_MODEL_8d19b87718204b97ba9c7ff3b8276acc",
            "placeholder": "​",
            "style": "IPY_MODEL_631b86ca931b4fb78a65df63414ea949",
            "value": "Downloading (…)okenizer_config.json: 100%"
          }
        },
        "c47cc90c35bc4380b6030c0852df60ad": {
          "model_module": "@jupyter-widgets/controls",
          "model_name": "FloatProgressModel",
          "model_module_version": "1.5.0",
          "state": {
            "_dom_classes": [],
            "_model_module": "@jupyter-widgets/controls",
            "_model_module_version": "1.5.0",
            "_model_name": "FloatProgressModel",
            "_view_count": null,
            "_view_module": "@jupyter-widgets/controls",
            "_view_module_version": "1.5.0",
            "_view_name": "ProgressView",
            "bar_style": "success",
            "description": "",
            "description_tooltip": null,
            "layout": "IPY_MODEL_6ea791588ef0424ea5e1401056befc73",
            "max": 331,
            "min": 0,
            "orientation": "horizontal",
            "style": "IPY_MODEL_8c86b3fb9eb74d73a154fc7257bd7ae2",
            "value": 331
          }
        },
        "b9cedd1b06834318b679830751b967b5": {
          "model_module": "@jupyter-widgets/controls",
          "model_name": "HTMLModel",
          "model_module_version": "1.5.0",
          "state": {
            "_dom_classes": [],
            "_model_module": "@jupyter-widgets/controls",
            "_model_module_version": "1.5.0",
            "_model_name": "HTMLModel",
            "_view_count": null,
            "_view_module": "@jupyter-widgets/controls",
            "_view_module_version": "1.5.0",
            "_view_name": "HTMLView",
            "description": "",
            "description_tooltip": null,
            "layout": "IPY_MODEL_105037ab78624cdca8a1930cb3405284",
            "placeholder": "​",
            "style": "IPY_MODEL_351b744051be40eeb047de0da07a077c",
            "value": " 331/331 [00:00&lt;00:00, 12.2kB/s]"
          }
        },
        "87a7679e269540d397a426f39a1780ba": {
          "model_module": "@jupyter-widgets/base",
          "model_name": "LayoutModel",
          "model_module_version": "1.2.0",
          "state": {
            "_model_module": "@jupyter-widgets/base",
            "_model_module_version": "1.2.0",
            "_model_name": "LayoutModel",
            "_view_count": null,
            "_view_module": "@jupyter-widgets/base",
            "_view_module_version": "1.2.0",
            "_view_name": "LayoutView",
            "align_content": null,
            "align_items": null,
            "align_self": null,
            "border": null,
            "bottom": null,
            "display": null,
            "flex": null,
            "flex_flow": null,
            "grid_area": null,
            "grid_auto_columns": null,
            "grid_auto_flow": null,
            "grid_auto_rows": null,
            "grid_column": null,
            "grid_gap": null,
            "grid_row": null,
            "grid_template_areas": null,
            "grid_template_columns": null,
            "grid_template_rows": null,
            "height": null,
            "justify_content": null,
            "justify_items": null,
            "left": null,
            "margin": null,
            "max_height": null,
            "max_width": null,
            "min_height": null,
            "min_width": null,
            "object_fit": null,
            "object_position": null,
            "order": null,
            "overflow": null,
            "overflow_x": null,
            "overflow_y": null,
            "padding": null,
            "right": null,
            "top": null,
            "visibility": null,
            "width": null
          }
        },
        "8d19b87718204b97ba9c7ff3b8276acc": {
          "model_module": "@jupyter-widgets/base",
          "model_name": "LayoutModel",
          "model_module_version": "1.2.0",
          "state": {
            "_model_module": "@jupyter-widgets/base",
            "_model_module_version": "1.2.0",
            "_model_name": "LayoutModel",
            "_view_count": null,
            "_view_module": "@jupyter-widgets/base",
            "_view_module_version": "1.2.0",
            "_view_name": "LayoutView",
            "align_content": null,
            "align_items": null,
            "align_self": null,
            "border": null,
            "bottom": null,
            "display": null,
            "flex": null,
            "flex_flow": null,
            "grid_area": null,
            "grid_auto_columns": null,
            "grid_auto_flow": null,
            "grid_auto_rows": null,
            "grid_column": null,
            "grid_gap": null,
            "grid_row": null,
            "grid_template_areas": null,
            "grid_template_columns": null,
            "grid_template_rows": null,
            "height": null,
            "justify_content": null,
            "justify_items": null,
            "left": null,
            "margin": null,
            "max_height": null,
            "max_width": null,
            "min_height": null,
            "min_width": null,
            "object_fit": null,
            "object_position": null,
            "order": null,
            "overflow": null,
            "overflow_x": null,
            "overflow_y": null,
            "padding": null,
            "right": null,
            "top": null,
            "visibility": null,
            "width": null
          }
        },
        "631b86ca931b4fb78a65df63414ea949": {
          "model_module": "@jupyter-widgets/controls",
          "model_name": "DescriptionStyleModel",
          "model_module_version": "1.5.0",
          "state": {
            "_model_module": "@jupyter-widgets/controls",
            "_model_module_version": "1.5.0",
            "_model_name": "DescriptionStyleModel",
            "_view_count": null,
            "_view_module": "@jupyter-widgets/base",
            "_view_module_version": "1.2.0",
            "_view_name": "StyleView",
            "description_width": ""
          }
        },
        "6ea791588ef0424ea5e1401056befc73": {
          "model_module": "@jupyter-widgets/base",
          "model_name": "LayoutModel",
          "model_module_version": "1.2.0",
          "state": {
            "_model_module": "@jupyter-widgets/base",
            "_model_module_version": "1.2.0",
            "_model_name": "LayoutModel",
            "_view_count": null,
            "_view_module": "@jupyter-widgets/base",
            "_view_module_version": "1.2.0",
            "_view_name": "LayoutView",
            "align_content": null,
            "align_items": null,
            "align_self": null,
            "border": null,
            "bottom": null,
            "display": null,
            "flex": null,
            "flex_flow": null,
            "grid_area": null,
            "grid_auto_columns": null,
            "grid_auto_flow": null,
            "grid_auto_rows": null,
            "grid_column": null,
            "grid_gap": null,
            "grid_row": null,
            "grid_template_areas": null,
            "grid_template_columns": null,
            "grid_template_rows": null,
            "height": null,
            "justify_content": null,
            "justify_items": null,
            "left": null,
            "margin": null,
            "max_height": null,
            "max_width": null,
            "min_height": null,
            "min_width": null,
            "object_fit": null,
            "object_position": null,
            "order": null,
            "overflow": null,
            "overflow_x": null,
            "overflow_y": null,
            "padding": null,
            "right": null,
            "top": null,
            "visibility": null,
            "width": null
          }
        },
        "8c86b3fb9eb74d73a154fc7257bd7ae2": {
          "model_module": "@jupyter-widgets/controls",
          "model_name": "ProgressStyleModel",
          "model_module_version": "1.5.0",
          "state": {
            "_model_module": "@jupyter-widgets/controls",
            "_model_module_version": "1.5.0",
            "_model_name": "ProgressStyleModel",
            "_view_count": null,
            "_view_module": "@jupyter-widgets/base",
            "_view_module_version": "1.2.0",
            "_view_name": "StyleView",
            "bar_color": null,
            "description_width": ""
          }
        },
        "105037ab78624cdca8a1930cb3405284": {
          "model_module": "@jupyter-widgets/base",
          "model_name": "LayoutModel",
          "model_module_version": "1.2.0",
          "state": {
            "_model_module": "@jupyter-widgets/base",
            "_model_module_version": "1.2.0",
            "_model_name": "LayoutModel",
            "_view_count": null,
            "_view_module": "@jupyter-widgets/base",
            "_view_module_version": "1.2.0",
            "_view_name": "LayoutView",
            "align_content": null,
            "align_items": null,
            "align_self": null,
            "border": null,
            "bottom": null,
            "display": null,
            "flex": null,
            "flex_flow": null,
            "grid_area": null,
            "grid_auto_columns": null,
            "grid_auto_flow": null,
            "grid_auto_rows": null,
            "grid_column": null,
            "grid_gap": null,
            "grid_row": null,
            "grid_template_areas": null,
            "grid_template_columns": null,
            "grid_template_rows": null,
            "height": null,
            "justify_content": null,
            "justify_items": null,
            "left": null,
            "margin": null,
            "max_height": null,
            "max_width": null,
            "min_height": null,
            "min_width": null,
            "object_fit": null,
            "object_position": null,
            "order": null,
            "overflow": null,
            "overflow_x": null,
            "overflow_y": null,
            "padding": null,
            "right": null,
            "top": null,
            "visibility": null,
            "width": null
          }
        },
        "351b744051be40eeb047de0da07a077c": {
          "model_module": "@jupyter-widgets/controls",
          "model_name": "DescriptionStyleModel",
          "model_module_version": "1.5.0",
          "state": {
            "_model_module": "@jupyter-widgets/controls",
            "_model_module_version": "1.5.0",
            "_model_name": "DescriptionStyleModel",
            "_view_count": null,
            "_view_module": "@jupyter-widgets/base",
            "_view_module_version": "1.2.0",
            "_view_name": "StyleView",
            "description_width": ""
          }
        },
        "c3b74cc5ae684bbc84349756d1829cc3": {
          "model_module": "@jupyter-widgets/controls",
          "model_name": "HBoxModel",
          "model_module_version": "1.5.0",
          "state": {
            "_dom_classes": [],
            "_model_module": "@jupyter-widgets/controls",
            "_model_module_version": "1.5.0",
            "_model_name": "HBoxModel",
            "_view_count": null,
            "_view_module": "@jupyter-widgets/controls",
            "_view_module_version": "1.5.0",
            "_view_name": "HBoxView",
            "box_style": "",
            "children": [
              "IPY_MODEL_bff39312e6c14b7a926830dfd1ee6c21",
              "IPY_MODEL_ee93d2d443b341ed87e00b13e33d62e2",
              "IPY_MODEL_2044f69275814fc09cfb47ce4419d2a7"
            ],
            "layout": "IPY_MODEL_16e3ef4200b5470bb66610711d143be7"
          }
        },
        "bff39312e6c14b7a926830dfd1ee6c21": {
          "model_module": "@jupyter-widgets/controls",
          "model_name": "HTMLModel",
          "model_module_version": "1.5.0",
          "state": {
            "_dom_classes": [],
            "_model_module": "@jupyter-widgets/controls",
            "_model_module_version": "1.5.0",
            "_model_name": "HTMLModel",
            "_view_count": null,
            "_view_module": "@jupyter-widgets/controls",
            "_view_module_version": "1.5.0",
            "_view_name": "HTMLView",
            "description": "",
            "description_tooltip": null,
            "layout": "IPY_MODEL_4fd3006e1612406f96d749ef9b38618f",
            "placeholder": "​",
            "style": "IPY_MODEL_06f2b7cdc6154437b489eded465aa5db",
            "value": "Downloading (…)lve/main/config.json: 100%"
          }
        },
        "ee93d2d443b341ed87e00b13e33d62e2": {
          "model_module": "@jupyter-widgets/controls",
          "model_name": "FloatProgressModel",
          "model_module_version": "1.5.0",
          "state": {
            "_dom_classes": [],
            "_model_module": "@jupyter-widgets/controls",
            "_model_module_version": "1.5.0",
            "_model_name": "FloatProgressModel",
            "_view_count": null,
            "_view_module": "@jupyter-widgets/controls",
            "_view_module_version": "1.5.0",
            "_view_name": "ProgressView",
            "bar_style": "success",
            "description": "",
            "description_tooltip": null,
            "layout": "IPY_MODEL_1170f2589f904d0fbca8481b7485f268",
            "max": 752,
            "min": 0,
            "orientation": "horizontal",
            "style": "IPY_MODEL_f642858d749445558dc0b761fd85f557",
            "value": 752
          }
        },
        "2044f69275814fc09cfb47ce4419d2a7": {
          "model_module": "@jupyter-widgets/controls",
          "model_name": "HTMLModel",
          "model_module_version": "1.5.0",
          "state": {
            "_dom_classes": [],
            "_model_module": "@jupyter-widgets/controls",
            "_model_module_version": "1.5.0",
            "_model_name": "HTMLModel",
            "_view_count": null,
            "_view_module": "@jupyter-widgets/controls",
            "_view_module_version": "1.5.0",
            "_view_name": "HTMLView",
            "description": "",
            "description_tooltip": null,
            "layout": "IPY_MODEL_9d6a051db2854c4eb2d60d3f10633b08",
            "placeholder": "​",
            "style": "IPY_MODEL_158ce043b6bd461c87cd801e14f52fea",
            "value": " 752/752 [00:00&lt;00:00, 29.5kB/s]"
          }
        },
        "16e3ef4200b5470bb66610711d143be7": {
          "model_module": "@jupyter-widgets/base",
          "model_name": "LayoutModel",
          "model_module_version": "1.2.0",
          "state": {
            "_model_module": "@jupyter-widgets/base",
            "_model_module_version": "1.2.0",
            "_model_name": "LayoutModel",
            "_view_count": null,
            "_view_module": "@jupyter-widgets/base",
            "_view_module_version": "1.2.0",
            "_view_name": "LayoutView",
            "align_content": null,
            "align_items": null,
            "align_self": null,
            "border": null,
            "bottom": null,
            "display": null,
            "flex": null,
            "flex_flow": null,
            "grid_area": null,
            "grid_auto_columns": null,
            "grid_auto_flow": null,
            "grid_auto_rows": null,
            "grid_column": null,
            "grid_gap": null,
            "grid_row": null,
            "grid_template_areas": null,
            "grid_template_columns": null,
            "grid_template_rows": null,
            "height": null,
            "justify_content": null,
            "justify_items": null,
            "left": null,
            "margin": null,
            "max_height": null,
            "max_width": null,
            "min_height": null,
            "min_width": null,
            "object_fit": null,
            "object_position": null,
            "order": null,
            "overflow": null,
            "overflow_x": null,
            "overflow_y": null,
            "padding": null,
            "right": null,
            "top": null,
            "visibility": null,
            "width": null
          }
        },
        "4fd3006e1612406f96d749ef9b38618f": {
          "model_module": "@jupyter-widgets/base",
          "model_name": "LayoutModel",
          "model_module_version": "1.2.0",
          "state": {
            "_model_module": "@jupyter-widgets/base",
            "_model_module_version": "1.2.0",
            "_model_name": "LayoutModel",
            "_view_count": null,
            "_view_module": "@jupyter-widgets/base",
            "_view_module_version": "1.2.0",
            "_view_name": "LayoutView",
            "align_content": null,
            "align_items": null,
            "align_self": null,
            "border": null,
            "bottom": null,
            "display": null,
            "flex": null,
            "flex_flow": null,
            "grid_area": null,
            "grid_auto_columns": null,
            "grid_auto_flow": null,
            "grid_auto_rows": null,
            "grid_column": null,
            "grid_gap": null,
            "grid_row": null,
            "grid_template_areas": null,
            "grid_template_columns": null,
            "grid_template_rows": null,
            "height": null,
            "justify_content": null,
            "justify_items": null,
            "left": null,
            "margin": null,
            "max_height": null,
            "max_width": null,
            "min_height": null,
            "min_width": null,
            "object_fit": null,
            "object_position": null,
            "order": null,
            "overflow": null,
            "overflow_x": null,
            "overflow_y": null,
            "padding": null,
            "right": null,
            "top": null,
            "visibility": null,
            "width": null
          }
        },
        "06f2b7cdc6154437b489eded465aa5db": {
          "model_module": "@jupyter-widgets/controls",
          "model_name": "DescriptionStyleModel",
          "model_module_version": "1.5.0",
          "state": {
            "_model_module": "@jupyter-widgets/controls",
            "_model_module_version": "1.5.0",
            "_model_name": "DescriptionStyleModel",
            "_view_count": null,
            "_view_module": "@jupyter-widgets/base",
            "_view_module_version": "1.2.0",
            "_view_name": "StyleView",
            "description_width": ""
          }
        },
        "1170f2589f904d0fbca8481b7485f268": {
          "model_module": "@jupyter-widgets/base",
          "model_name": "LayoutModel",
          "model_module_version": "1.2.0",
          "state": {
            "_model_module": "@jupyter-widgets/base",
            "_model_module_version": "1.2.0",
            "_model_name": "LayoutModel",
            "_view_count": null,
            "_view_module": "@jupyter-widgets/base",
            "_view_module_version": "1.2.0",
            "_view_name": "LayoutView",
            "align_content": null,
            "align_items": null,
            "align_self": null,
            "border": null,
            "bottom": null,
            "display": null,
            "flex": null,
            "flex_flow": null,
            "grid_area": null,
            "grid_auto_columns": null,
            "grid_auto_flow": null,
            "grid_auto_rows": null,
            "grid_column": null,
            "grid_gap": null,
            "grid_row": null,
            "grid_template_areas": null,
            "grid_template_columns": null,
            "grid_template_rows": null,
            "height": null,
            "justify_content": null,
            "justify_items": null,
            "left": null,
            "margin": null,
            "max_height": null,
            "max_width": null,
            "min_height": null,
            "min_width": null,
            "object_fit": null,
            "object_position": null,
            "order": null,
            "overflow": null,
            "overflow_x": null,
            "overflow_y": null,
            "padding": null,
            "right": null,
            "top": null,
            "visibility": null,
            "width": null
          }
        },
        "f642858d749445558dc0b761fd85f557": {
          "model_module": "@jupyter-widgets/controls",
          "model_name": "ProgressStyleModel",
          "model_module_version": "1.5.0",
          "state": {
            "_model_module": "@jupyter-widgets/controls",
            "_model_module_version": "1.5.0",
            "_model_name": "ProgressStyleModel",
            "_view_count": null,
            "_view_module": "@jupyter-widgets/base",
            "_view_module_version": "1.2.0",
            "_view_name": "StyleView",
            "bar_color": null,
            "description_width": ""
          }
        },
        "9d6a051db2854c4eb2d60d3f10633b08": {
          "model_module": "@jupyter-widgets/base",
          "model_name": "LayoutModel",
          "model_module_version": "1.2.0",
          "state": {
            "_model_module": "@jupyter-widgets/base",
            "_model_module_version": "1.2.0",
            "_model_name": "LayoutModel",
            "_view_count": null,
            "_view_module": "@jupyter-widgets/base",
            "_view_module_version": "1.2.0",
            "_view_name": "LayoutView",
            "align_content": null,
            "align_items": null,
            "align_self": null,
            "border": null,
            "bottom": null,
            "display": null,
            "flex": null,
            "flex_flow": null,
            "grid_area": null,
            "grid_auto_columns": null,
            "grid_auto_flow": null,
            "grid_auto_rows": null,
            "grid_column": null,
            "grid_gap": null,
            "grid_row": null,
            "grid_template_areas": null,
            "grid_template_columns": null,
            "grid_template_rows": null,
            "height": null,
            "justify_content": null,
            "justify_items": null,
            "left": null,
            "margin": null,
            "max_height": null,
            "max_width": null,
            "min_height": null,
            "min_width": null,
            "object_fit": null,
            "object_position": null,
            "order": null,
            "overflow": null,
            "overflow_x": null,
            "overflow_y": null,
            "padding": null,
            "right": null,
            "top": null,
            "visibility": null,
            "width": null
          }
        },
        "158ce043b6bd461c87cd801e14f52fea": {
          "model_module": "@jupyter-widgets/controls",
          "model_name": "DescriptionStyleModel",
          "model_module_version": "1.5.0",
          "state": {
            "_model_module": "@jupyter-widgets/controls",
            "_model_module_version": "1.5.0",
            "_model_name": "DescriptionStyleModel",
            "_view_count": null,
            "_view_module": "@jupyter-widgets/base",
            "_view_module_version": "1.2.0",
            "_view_name": "StyleView",
            "description_width": ""
          }
        },
        "ff14ad5c5e044e7882b85a561f8ae0fd": {
          "model_module": "@jupyter-widgets/controls",
          "model_name": "HBoxModel",
          "model_module_version": "1.5.0",
          "state": {
            "_dom_classes": [],
            "_model_module": "@jupyter-widgets/controls",
            "_model_module_version": "1.5.0",
            "_model_name": "HBoxModel",
            "_view_count": null,
            "_view_module": "@jupyter-widgets/controls",
            "_view_module_version": "1.5.0",
            "_view_name": "HBoxView",
            "box_style": "",
            "children": [
              "IPY_MODEL_f6d333d7ab6e4f7298bc21dc483cf3f2",
              "IPY_MODEL_ad17443edb464699a7ab159458a40b82",
              "IPY_MODEL_a29af73fd42e446e83c945f4d253572e"
            ],
            "layout": "IPY_MODEL_c135f85a327f4af686edf131f38d01f5"
          }
        },
        "f6d333d7ab6e4f7298bc21dc483cf3f2": {
          "model_module": "@jupyter-widgets/controls",
          "model_name": "HTMLModel",
          "model_module_version": "1.5.0",
          "state": {
            "_dom_classes": [],
            "_model_module": "@jupyter-widgets/controls",
            "_model_module_version": "1.5.0",
            "_model_name": "HTMLModel",
            "_view_count": null,
            "_view_module": "@jupyter-widgets/controls",
            "_view_module_version": "1.5.0",
            "_view_name": "HTMLView",
            "description": "",
            "description_tooltip": null,
            "layout": "IPY_MODEL_e1ff73aded234b5da514216d2d3c4860",
            "placeholder": "​",
            "style": "IPY_MODEL_deb19215d2e0433a8d3b957a3d2c652e",
            "value": "Downloading (…)solve/main/vocab.txt: 100%"
          }
        },
        "ad17443edb464699a7ab159458a40b82": {
          "model_module": "@jupyter-widgets/controls",
          "model_name": "FloatProgressModel",
          "model_module_version": "1.5.0",
          "state": {
            "_dom_classes": [],
            "_model_module": "@jupyter-widgets/controls",
            "_model_module_version": "1.5.0",
            "_model_name": "FloatProgressModel",
            "_view_count": null,
            "_view_module": "@jupyter-widgets/controls",
            "_view_module_version": "1.5.0",
            "_view_name": "ProgressView",
            "bar_style": "success",
            "description": "",
            "description_tooltip": null,
            "layout": "IPY_MODEL_bb0e63bc8d4e4501b43ffb41b9cab667",
            "max": 1780720,
            "min": 0,
            "orientation": "horizontal",
            "style": "IPY_MODEL_021a708ebc2c4d77816342408b379995",
            "value": 1780720
          }
        },
        "a29af73fd42e446e83c945f4d253572e": {
          "model_module": "@jupyter-widgets/controls",
          "model_name": "HTMLModel",
          "model_module_version": "1.5.0",
          "state": {
            "_dom_classes": [],
            "_model_module": "@jupyter-widgets/controls",
            "_model_module_version": "1.5.0",
            "_model_name": "HTMLModel",
            "_view_count": null,
            "_view_module": "@jupyter-widgets/controls",
            "_view_module_version": "1.5.0",
            "_view_name": "HTMLView",
            "description": "",
            "description_tooltip": null,
            "layout": "IPY_MODEL_669ccb5e0e99437e9e64438d58d34583",
            "placeholder": "​",
            "style": "IPY_MODEL_b03ca74e07f34d69aa599f52a67f2467",
            "value": " 1.78M/1.78M [00:01&lt;00:00, 1.28MB/s]"
          }
        },
        "c135f85a327f4af686edf131f38d01f5": {
          "model_module": "@jupyter-widgets/base",
          "model_name": "LayoutModel",
          "model_module_version": "1.2.0",
          "state": {
            "_model_module": "@jupyter-widgets/base",
            "_model_module_version": "1.2.0",
            "_model_name": "LayoutModel",
            "_view_count": null,
            "_view_module": "@jupyter-widgets/base",
            "_view_module_version": "1.2.0",
            "_view_name": "LayoutView",
            "align_content": null,
            "align_items": null,
            "align_self": null,
            "border": null,
            "bottom": null,
            "display": null,
            "flex": null,
            "flex_flow": null,
            "grid_area": null,
            "grid_auto_columns": null,
            "grid_auto_flow": null,
            "grid_auto_rows": null,
            "grid_column": null,
            "grid_gap": null,
            "grid_row": null,
            "grid_template_areas": null,
            "grid_template_columns": null,
            "grid_template_rows": null,
            "height": null,
            "justify_content": null,
            "justify_items": null,
            "left": null,
            "margin": null,
            "max_height": null,
            "max_width": null,
            "min_height": null,
            "min_width": null,
            "object_fit": null,
            "object_position": null,
            "order": null,
            "overflow": null,
            "overflow_x": null,
            "overflow_y": null,
            "padding": null,
            "right": null,
            "top": null,
            "visibility": null,
            "width": null
          }
        },
        "e1ff73aded234b5da514216d2d3c4860": {
          "model_module": "@jupyter-widgets/base",
          "model_name": "LayoutModel",
          "model_module_version": "1.2.0",
          "state": {
            "_model_module": "@jupyter-widgets/base",
            "_model_module_version": "1.2.0",
            "_model_name": "LayoutModel",
            "_view_count": null,
            "_view_module": "@jupyter-widgets/base",
            "_view_module_version": "1.2.0",
            "_view_name": "LayoutView",
            "align_content": null,
            "align_items": null,
            "align_self": null,
            "border": null,
            "bottom": null,
            "display": null,
            "flex": null,
            "flex_flow": null,
            "grid_area": null,
            "grid_auto_columns": null,
            "grid_auto_flow": null,
            "grid_auto_rows": null,
            "grid_column": null,
            "grid_gap": null,
            "grid_row": null,
            "grid_template_areas": null,
            "grid_template_columns": null,
            "grid_template_rows": null,
            "height": null,
            "justify_content": null,
            "justify_items": null,
            "left": null,
            "margin": null,
            "max_height": null,
            "max_width": null,
            "min_height": null,
            "min_width": null,
            "object_fit": null,
            "object_position": null,
            "order": null,
            "overflow": null,
            "overflow_x": null,
            "overflow_y": null,
            "padding": null,
            "right": null,
            "top": null,
            "visibility": null,
            "width": null
          }
        },
        "deb19215d2e0433a8d3b957a3d2c652e": {
          "model_module": "@jupyter-widgets/controls",
          "model_name": "DescriptionStyleModel",
          "model_module_version": "1.5.0",
          "state": {
            "_model_module": "@jupyter-widgets/controls",
            "_model_module_version": "1.5.0",
            "_model_name": "DescriptionStyleModel",
            "_view_count": null,
            "_view_module": "@jupyter-widgets/base",
            "_view_module_version": "1.2.0",
            "_view_name": "StyleView",
            "description_width": ""
          }
        },
        "bb0e63bc8d4e4501b43ffb41b9cab667": {
          "model_module": "@jupyter-widgets/base",
          "model_name": "LayoutModel",
          "model_module_version": "1.2.0",
          "state": {
            "_model_module": "@jupyter-widgets/base",
            "_model_module_version": "1.2.0",
            "_model_name": "LayoutModel",
            "_view_count": null,
            "_view_module": "@jupyter-widgets/base",
            "_view_module_version": "1.2.0",
            "_view_name": "LayoutView",
            "align_content": null,
            "align_items": null,
            "align_self": null,
            "border": null,
            "bottom": null,
            "display": null,
            "flex": null,
            "flex_flow": null,
            "grid_area": null,
            "grid_auto_columns": null,
            "grid_auto_flow": null,
            "grid_auto_rows": null,
            "grid_column": null,
            "grid_gap": null,
            "grid_row": null,
            "grid_template_areas": null,
            "grid_template_columns": null,
            "grid_template_rows": null,
            "height": null,
            "justify_content": null,
            "justify_items": null,
            "left": null,
            "margin": null,
            "max_height": null,
            "max_width": null,
            "min_height": null,
            "min_width": null,
            "object_fit": null,
            "object_position": null,
            "order": null,
            "overflow": null,
            "overflow_x": null,
            "overflow_y": null,
            "padding": null,
            "right": null,
            "top": null,
            "visibility": null,
            "width": null
          }
        },
        "021a708ebc2c4d77816342408b379995": {
          "model_module": "@jupyter-widgets/controls",
          "model_name": "ProgressStyleModel",
          "model_module_version": "1.5.0",
          "state": {
            "_model_module": "@jupyter-widgets/controls",
            "_model_module_version": "1.5.0",
            "_model_name": "ProgressStyleModel",
            "_view_count": null,
            "_view_module": "@jupyter-widgets/base",
            "_view_module_version": "1.2.0",
            "_view_name": "StyleView",
            "bar_color": null,
            "description_width": ""
          }
        },
        "669ccb5e0e99437e9e64438d58d34583": {
          "model_module": "@jupyter-widgets/base",
          "model_name": "LayoutModel",
          "model_module_version": "1.2.0",
          "state": {
            "_model_module": "@jupyter-widgets/base",
            "_model_module_version": "1.2.0",
            "_model_name": "LayoutModel",
            "_view_count": null,
            "_view_module": "@jupyter-widgets/base",
            "_view_module_version": "1.2.0",
            "_view_name": "LayoutView",
            "align_content": null,
            "align_items": null,
            "align_self": null,
            "border": null,
            "bottom": null,
            "display": null,
            "flex": null,
            "flex_flow": null,
            "grid_area": null,
            "grid_auto_columns": null,
            "grid_auto_flow": null,
            "grid_auto_rows": null,
            "grid_column": null,
            "grid_gap": null,
            "grid_row": null,
            "grid_template_areas": null,
            "grid_template_columns": null,
            "grid_template_rows": null,
            "height": null,
            "justify_content": null,
            "justify_items": null,
            "left": null,
            "margin": null,
            "max_height": null,
            "max_width": null,
            "min_height": null,
            "min_width": null,
            "object_fit": null,
            "object_position": null,
            "order": null,
            "overflow": null,
            "overflow_x": null,
            "overflow_y": null,
            "padding": null,
            "right": null,
            "top": null,
            "visibility": null,
            "width": null
          }
        },
        "b03ca74e07f34d69aa599f52a67f2467": {
          "model_module": "@jupyter-widgets/controls",
          "model_name": "DescriptionStyleModel",
          "model_module_version": "1.5.0",
          "state": {
            "_model_module": "@jupyter-widgets/controls",
            "_model_module_version": "1.5.0",
            "_model_name": "DescriptionStyleModel",
            "_view_count": null,
            "_view_module": "@jupyter-widgets/base",
            "_view_module_version": "1.2.0",
            "_view_name": "StyleView",
            "description_width": ""
          }
        },
        "806cd6e512354454b4730fa072d64ae1": {
          "model_module": "@jupyter-widgets/controls",
          "model_name": "HBoxModel",
          "model_module_version": "1.5.0",
          "state": {
            "_dom_classes": [],
            "_model_module": "@jupyter-widgets/controls",
            "_model_module_version": "1.5.0",
            "_model_name": "HBoxModel",
            "_view_count": null,
            "_view_module": "@jupyter-widgets/controls",
            "_view_module_version": "1.5.0",
            "_view_name": "HBoxView",
            "box_style": "",
            "children": [
              "IPY_MODEL_b1239e19e9374391a69c7bab9e8dc2a3",
              "IPY_MODEL_e95c832915e94969afef72c26147c9d6",
              "IPY_MODEL_f2d7b035e0014afcb92ad3f1c7dc431a"
            ],
            "layout": "IPY_MODEL_2d666a904cfe41f39d27bc6e85a15551"
          }
        },
        "b1239e19e9374391a69c7bab9e8dc2a3": {
          "model_module": "@jupyter-widgets/controls",
          "model_name": "HTMLModel",
          "model_module_version": "1.5.0",
          "state": {
            "_dom_classes": [],
            "_model_module": "@jupyter-widgets/controls",
            "_model_module_version": "1.5.0",
            "_model_name": "HTMLModel",
            "_view_count": null,
            "_view_module": "@jupyter-widgets/controls",
            "_view_module_version": "1.5.0",
            "_view_name": "HTMLView",
            "description": "",
            "description_tooltip": null,
            "layout": "IPY_MODEL_6a3a147862004e6fa49dc7c3b2a11180",
            "placeholder": "​",
            "style": "IPY_MODEL_643bc6ee67424a5a88568ac0aea166f0",
            "value": "Downloading (…)cial_tokens_map.json: 100%"
          }
        },
        "e95c832915e94969afef72c26147c9d6": {
          "model_module": "@jupyter-widgets/controls",
          "model_name": "FloatProgressModel",
          "model_module_version": "1.5.0",
          "state": {
            "_dom_classes": [],
            "_model_module": "@jupyter-widgets/controls",
            "_model_module_version": "1.5.0",
            "_model_name": "FloatProgressModel",
            "_view_count": null,
            "_view_module": "@jupyter-widgets/controls",
            "_view_module_version": "1.5.0",
            "_view_name": "ProgressView",
            "bar_style": "success",
            "description": "",
            "description_tooltip": null,
            "layout": "IPY_MODEL_837c45ddf96142b59ce79f63f8830047",
            "max": 112,
            "min": 0,
            "orientation": "horizontal",
            "style": "IPY_MODEL_0e929960749241e9ae198074daca7430",
            "value": 112
          }
        },
        "f2d7b035e0014afcb92ad3f1c7dc431a": {
          "model_module": "@jupyter-widgets/controls",
          "model_name": "HTMLModel",
          "model_module_version": "1.5.0",
          "state": {
            "_dom_classes": [],
            "_model_module": "@jupyter-widgets/controls",
            "_model_module_version": "1.5.0",
            "_model_name": "HTMLModel",
            "_view_count": null,
            "_view_module": "@jupyter-widgets/controls",
            "_view_module_version": "1.5.0",
            "_view_name": "HTMLView",
            "description": "",
            "description_tooltip": null,
            "layout": "IPY_MODEL_d882c08ed110400093020d1b5c918335",
            "placeholder": "​",
            "style": "IPY_MODEL_38576e7144c8414f89df02653f7a7437",
            "value": " 112/112 [00:00&lt;00:00, 1.54kB/s]"
          }
        },
        "2d666a904cfe41f39d27bc6e85a15551": {
          "model_module": "@jupyter-widgets/base",
          "model_name": "LayoutModel",
          "model_module_version": "1.2.0",
          "state": {
            "_model_module": "@jupyter-widgets/base",
            "_model_module_version": "1.2.0",
            "_model_name": "LayoutModel",
            "_view_count": null,
            "_view_module": "@jupyter-widgets/base",
            "_view_module_version": "1.2.0",
            "_view_name": "LayoutView",
            "align_content": null,
            "align_items": null,
            "align_self": null,
            "border": null,
            "bottom": null,
            "display": null,
            "flex": null,
            "flex_flow": null,
            "grid_area": null,
            "grid_auto_columns": null,
            "grid_auto_flow": null,
            "grid_auto_rows": null,
            "grid_column": null,
            "grid_gap": null,
            "grid_row": null,
            "grid_template_areas": null,
            "grid_template_columns": null,
            "grid_template_rows": null,
            "height": null,
            "justify_content": null,
            "justify_items": null,
            "left": null,
            "margin": null,
            "max_height": null,
            "max_width": null,
            "min_height": null,
            "min_width": null,
            "object_fit": null,
            "object_position": null,
            "order": null,
            "overflow": null,
            "overflow_x": null,
            "overflow_y": null,
            "padding": null,
            "right": null,
            "top": null,
            "visibility": null,
            "width": null
          }
        },
        "6a3a147862004e6fa49dc7c3b2a11180": {
          "model_module": "@jupyter-widgets/base",
          "model_name": "LayoutModel",
          "model_module_version": "1.2.0",
          "state": {
            "_model_module": "@jupyter-widgets/base",
            "_model_module_version": "1.2.0",
            "_model_name": "LayoutModel",
            "_view_count": null,
            "_view_module": "@jupyter-widgets/base",
            "_view_module_version": "1.2.0",
            "_view_name": "LayoutView",
            "align_content": null,
            "align_items": null,
            "align_self": null,
            "border": null,
            "bottom": null,
            "display": null,
            "flex": null,
            "flex_flow": null,
            "grid_area": null,
            "grid_auto_columns": null,
            "grid_auto_flow": null,
            "grid_auto_rows": null,
            "grid_column": null,
            "grid_gap": null,
            "grid_row": null,
            "grid_template_areas": null,
            "grid_template_columns": null,
            "grid_template_rows": null,
            "height": null,
            "justify_content": null,
            "justify_items": null,
            "left": null,
            "margin": null,
            "max_height": null,
            "max_width": null,
            "min_height": null,
            "min_width": null,
            "object_fit": null,
            "object_position": null,
            "order": null,
            "overflow": null,
            "overflow_x": null,
            "overflow_y": null,
            "padding": null,
            "right": null,
            "top": null,
            "visibility": null,
            "width": null
          }
        },
        "643bc6ee67424a5a88568ac0aea166f0": {
          "model_module": "@jupyter-widgets/controls",
          "model_name": "DescriptionStyleModel",
          "model_module_version": "1.5.0",
          "state": {
            "_model_module": "@jupyter-widgets/controls",
            "_model_module_version": "1.5.0",
            "_model_name": "DescriptionStyleModel",
            "_view_count": null,
            "_view_module": "@jupyter-widgets/base",
            "_view_module_version": "1.2.0",
            "_view_name": "StyleView",
            "description_width": ""
          }
        },
        "837c45ddf96142b59ce79f63f8830047": {
          "model_module": "@jupyter-widgets/base",
          "model_name": "LayoutModel",
          "model_module_version": "1.2.0",
          "state": {
            "_model_module": "@jupyter-widgets/base",
            "_model_module_version": "1.2.0",
            "_model_name": "LayoutModel",
            "_view_count": null,
            "_view_module": "@jupyter-widgets/base",
            "_view_module_version": "1.2.0",
            "_view_name": "LayoutView",
            "align_content": null,
            "align_items": null,
            "align_self": null,
            "border": null,
            "bottom": null,
            "display": null,
            "flex": null,
            "flex_flow": null,
            "grid_area": null,
            "grid_auto_columns": null,
            "grid_auto_flow": null,
            "grid_auto_rows": null,
            "grid_column": null,
            "grid_gap": null,
            "grid_row": null,
            "grid_template_areas": null,
            "grid_template_columns": null,
            "grid_template_rows": null,
            "height": null,
            "justify_content": null,
            "justify_items": null,
            "left": null,
            "margin": null,
            "max_height": null,
            "max_width": null,
            "min_height": null,
            "min_width": null,
            "object_fit": null,
            "object_position": null,
            "order": null,
            "overflow": null,
            "overflow_x": null,
            "overflow_y": null,
            "padding": null,
            "right": null,
            "top": null,
            "visibility": null,
            "width": null
          }
        },
        "0e929960749241e9ae198074daca7430": {
          "model_module": "@jupyter-widgets/controls",
          "model_name": "ProgressStyleModel",
          "model_module_version": "1.5.0",
          "state": {
            "_model_module": "@jupyter-widgets/controls",
            "_model_module_version": "1.5.0",
            "_model_name": "ProgressStyleModel",
            "_view_count": null,
            "_view_module": "@jupyter-widgets/base",
            "_view_module_version": "1.2.0",
            "_view_name": "StyleView",
            "bar_color": null,
            "description_width": ""
          }
        },
        "d882c08ed110400093020d1b5c918335": {
          "model_module": "@jupyter-widgets/base",
          "model_name": "LayoutModel",
          "model_module_version": "1.2.0",
          "state": {
            "_model_module": "@jupyter-widgets/base",
            "_model_module_version": "1.2.0",
            "_model_name": "LayoutModel",
            "_view_count": null,
            "_view_module": "@jupyter-widgets/base",
            "_view_module_version": "1.2.0",
            "_view_name": "LayoutView",
            "align_content": null,
            "align_items": null,
            "align_self": null,
            "border": null,
            "bottom": null,
            "display": null,
            "flex": null,
            "flex_flow": null,
            "grid_area": null,
            "grid_auto_columns": null,
            "grid_auto_flow": null,
            "grid_auto_rows": null,
            "grid_column": null,
            "grid_gap": null,
            "grid_row": null,
            "grid_template_areas": null,
            "grid_template_columns": null,
            "grid_template_rows": null,
            "height": null,
            "justify_content": null,
            "justify_items": null,
            "left": null,
            "margin": null,
            "max_height": null,
            "max_width": null,
            "min_height": null,
            "min_width": null,
            "object_fit": null,
            "object_position": null,
            "order": null,
            "overflow": null,
            "overflow_x": null,
            "overflow_y": null,
            "padding": null,
            "right": null,
            "top": null,
            "visibility": null,
            "width": null
          }
        },
        "38576e7144c8414f89df02653f7a7437": {
          "model_module": "@jupyter-widgets/controls",
          "model_name": "DescriptionStyleModel",
          "model_module_version": "1.5.0",
          "state": {
            "_model_module": "@jupyter-widgets/controls",
            "_model_module_version": "1.5.0",
            "_model_name": "DescriptionStyleModel",
            "_view_count": null,
            "_view_module": "@jupyter-widgets/base",
            "_view_module_version": "1.2.0",
            "_view_name": "StyleView",
            "description_width": ""
          }
        },
        "cf6007a7114f438eb675e5331969cda9": {
          "model_module": "@jupyter-widgets/controls",
          "model_name": "HBoxModel",
          "model_module_version": "1.5.0",
          "state": {
            "_dom_classes": [],
            "_model_module": "@jupyter-widgets/controls",
            "_model_module_version": "1.5.0",
            "_model_name": "HBoxModel",
            "_view_count": null,
            "_view_module": "@jupyter-widgets/controls",
            "_view_module_version": "1.5.0",
            "_view_name": "HBoxView",
            "box_style": "",
            "children": [
              "IPY_MODEL_a49b061f85cc451a8b178b4b8f66205d",
              "IPY_MODEL_284dad713bc04fb69c2f49e541047f53",
              "IPY_MODEL_40ccd22b29b14d4d8fc364534f199426"
            ],
            "layout": "IPY_MODEL_1d145102db7349889a385b50b4e658f2"
          }
        },
        "a49b061f85cc451a8b178b4b8f66205d": {
          "model_module": "@jupyter-widgets/controls",
          "model_name": "HTMLModel",
          "model_module_version": "1.5.0",
          "state": {
            "_dom_classes": [],
            "_model_module": "@jupyter-widgets/controls",
            "_model_module_version": "1.5.0",
            "_model_name": "HTMLModel",
            "_view_count": null,
            "_view_module": "@jupyter-widgets/controls",
            "_view_module_version": "1.5.0",
            "_view_name": "HTMLView",
            "description": "",
            "description_tooltip": null,
            "layout": "IPY_MODEL_5107d1fbaab74e878ae2d01f1600c90e",
            "placeholder": "​",
            "style": "IPY_MODEL_2d12b56a34d341a38835465df718727c",
            "value": "Downloading pytorch_model.bin: 100%"
          }
        },
        "284dad713bc04fb69c2f49e541047f53": {
          "model_module": "@jupyter-widgets/controls",
          "model_name": "FloatProgressModel",
          "model_module_version": "1.5.0",
          "state": {
            "_dom_classes": [],
            "_model_module": "@jupyter-widgets/controls",
            "_model_module_version": "1.5.0",
            "_model_name": "FloatProgressModel",
            "_view_count": null,
            "_view_module": "@jupyter-widgets/controls",
            "_view_module_version": "1.5.0",
            "_view_name": "ProgressView",
            "bar_style": "success",
            "description": "",
            "description_tooltip": null,
            "layout": "IPY_MODEL_b561029acbdd4d2d8ec3f5a0f495cd7b",
            "max": 1707796287,
            "min": 0,
            "orientation": "horizontal",
            "style": "IPY_MODEL_320cca5042fe4afd8de74e95f539c19d",
            "value": 1707796287
          }
        },
        "40ccd22b29b14d4d8fc364534f199426": {
          "model_module": "@jupyter-widgets/controls",
          "model_name": "HTMLModel",
          "model_module_version": "1.5.0",
          "state": {
            "_dom_classes": [],
            "_model_module": "@jupyter-widgets/controls",
            "_model_module_version": "1.5.0",
            "_model_name": "HTMLModel",
            "_view_count": null,
            "_view_module": "@jupyter-widgets/controls",
            "_view_module_version": "1.5.0",
            "_view_name": "HTMLView",
            "description": "",
            "description_tooltip": null,
            "layout": "IPY_MODEL_22d042bce22f4969a3330f713811aefc",
            "placeholder": "​",
            "style": "IPY_MODEL_3271cb4b0df540dab86c9193585651ce",
            "value": " 1.71G/1.71G [00:11&lt;00:00, 135MB/s]"
          }
        },
        "1d145102db7349889a385b50b4e658f2": {
          "model_module": "@jupyter-widgets/base",
          "model_name": "LayoutModel",
          "model_module_version": "1.2.0",
          "state": {
            "_model_module": "@jupyter-widgets/base",
            "_model_module_version": "1.2.0",
            "_model_name": "LayoutModel",
            "_view_count": null,
            "_view_module": "@jupyter-widgets/base",
            "_view_module_version": "1.2.0",
            "_view_name": "LayoutView",
            "align_content": null,
            "align_items": null,
            "align_self": null,
            "border": null,
            "bottom": null,
            "display": null,
            "flex": null,
            "flex_flow": null,
            "grid_area": null,
            "grid_auto_columns": null,
            "grid_auto_flow": null,
            "grid_auto_rows": null,
            "grid_column": null,
            "grid_gap": null,
            "grid_row": null,
            "grid_template_areas": null,
            "grid_template_columns": null,
            "grid_template_rows": null,
            "height": null,
            "justify_content": null,
            "justify_items": null,
            "left": null,
            "margin": null,
            "max_height": null,
            "max_width": null,
            "min_height": null,
            "min_width": null,
            "object_fit": null,
            "object_position": null,
            "order": null,
            "overflow": null,
            "overflow_x": null,
            "overflow_y": null,
            "padding": null,
            "right": null,
            "top": null,
            "visibility": null,
            "width": null
          }
        },
        "5107d1fbaab74e878ae2d01f1600c90e": {
          "model_module": "@jupyter-widgets/base",
          "model_name": "LayoutModel",
          "model_module_version": "1.2.0",
          "state": {
            "_model_module": "@jupyter-widgets/base",
            "_model_module_version": "1.2.0",
            "_model_name": "LayoutModel",
            "_view_count": null,
            "_view_module": "@jupyter-widgets/base",
            "_view_module_version": "1.2.0",
            "_view_name": "LayoutView",
            "align_content": null,
            "align_items": null,
            "align_self": null,
            "border": null,
            "bottom": null,
            "display": null,
            "flex": null,
            "flex_flow": null,
            "grid_area": null,
            "grid_auto_columns": null,
            "grid_auto_flow": null,
            "grid_auto_rows": null,
            "grid_column": null,
            "grid_gap": null,
            "grid_row": null,
            "grid_template_areas": null,
            "grid_template_columns": null,
            "grid_template_rows": null,
            "height": null,
            "justify_content": null,
            "justify_items": null,
            "left": null,
            "margin": null,
            "max_height": null,
            "max_width": null,
            "min_height": null,
            "min_width": null,
            "object_fit": null,
            "object_position": null,
            "order": null,
            "overflow": null,
            "overflow_x": null,
            "overflow_y": null,
            "padding": null,
            "right": null,
            "top": null,
            "visibility": null,
            "width": null
          }
        },
        "2d12b56a34d341a38835465df718727c": {
          "model_module": "@jupyter-widgets/controls",
          "model_name": "DescriptionStyleModel",
          "model_module_version": "1.5.0",
          "state": {
            "_model_module": "@jupyter-widgets/controls",
            "_model_module_version": "1.5.0",
            "_model_name": "DescriptionStyleModel",
            "_view_count": null,
            "_view_module": "@jupyter-widgets/base",
            "_view_module_version": "1.2.0",
            "_view_name": "StyleView",
            "description_width": ""
          }
        },
        "b561029acbdd4d2d8ec3f5a0f495cd7b": {
          "model_module": "@jupyter-widgets/base",
          "model_name": "LayoutModel",
          "model_module_version": "1.2.0",
          "state": {
            "_model_module": "@jupyter-widgets/base",
            "_model_module_version": "1.2.0",
            "_model_name": "LayoutModel",
            "_view_count": null,
            "_view_module": "@jupyter-widgets/base",
            "_view_module_version": "1.2.0",
            "_view_name": "LayoutView",
            "align_content": null,
            "align_items": null,
            "align_self": null,
            "border": null,
            "bottom": null,
            "display": null,
            "flex": null,
            "flex_flow": null,
            "grid_area": null,
            "grid_auto_columns": null,
            "grid_auto_flow": null,
            "grid_auto_rows": null,
            "grid_column": null,
            "grid_gap": null,
            "grid_row": null,
            "grid_template_areas": null,
            "grid_template_columns": null,
            "grid_template_rows": null,
            "height": null,
            "justify_content": null,
            "justify_items": null,
            "left": null,
            "margin": null,
            "max_height": null,
            "max_width": null,
            "min_height": null,
            "min_width": null,
            "object_fit": null,
            "object_position": null,
            "order": null,
            "overflow": null,
            "overflow_x": null,
            "overflow_y": null,
            "padding": null,
            "right": null,
            "top": null,
            "visibility": null,
            "width": null
          }
        },
        "320cca5042fe4afd8de74e95f539c19d": {
          "model_module": "@jupyter-widgets/controls",
          "model_name": "ProgressStyleModel",
          "model_module_version": "1.5.0",
          "state": {
            "_model_module": "@jupyter-widgets/controls",
            "_model_module_version": "1.5.0",
            "_model_name": "ProgressStyleModel",
            "_view_count": null,
            "_view_module": "@jupyter-widgets/base",
            "_view_module_version": "1.2.0",
            "_view_name": "StyleView",
            "bar_color": null,
            "description_width": ""
          }
        },
        "22d042bce22f4969a3330f713811aefc": {
          "model_module": "@jupyter-widgets/base",
          "model_name": "LayoutModel",
          "model_module_version": "1.2.0",
          "state": {
            "_model_module": "@jupyter-widgets/base",
            "_model_module_version": "1.2.0",
            "_model_name": "LayoutModel",
            "_view_count": null,
            "_view_module": "@jupyter-widgets/base",
            "_view_module_version": "1.2.0",
            "_view_name": "LayoutView",
            "align_content": null,
            "align_items": null,
            "align_self": null,
            "border": null,
            "bottom": null,
            "display": null,
            "flex": null,
            "flex_flow": null,
            "grid_area": null,
            "grid_auto_columns": null,
            "grid_auto_flow": null,
            "grid_auto_rows": null,
            "grid_column": null,
            "grid_gap": null,
            "grid_row": null,
            "grid_template_areas": null,
            "grid_template_columns": null,
            "grid_template_rows": null,
            "height": null,
            "justify_content": null,
            "justify_items": null,
            "left": null,
            "margin": null,
            "max_height": null,
            "max_width": null,
            "min_height": null,
            "min_width": null,
            "object_fit": null,
            "object_position": null,
            "order": null,
            "overflow": null,
            "overflow_x": null,
            "overflow_y": null,
            "padding": null,
            "right": null,
            "top": null,
            "visibility": null,
            "width": null
          }
        },
        "3271cb4b0df540dab86c9193585651ce": {
          "model_module": "@jupyter-widgets/controls",
          "model_name": "DescriptionStyleModel",
          "model_module_version": "1.5.0",
          "state": {
            "_model_module": "@jupyter-widgets/controls",
            "_model_module_version": "1.5.0",
            "_model_name": "DescriptionStyleModel",
            "_view_count": null,
            "_view_module": "@jupyter-widgets/base",
            "_view_module_version": "1.2.0",
            "_view_name": "StyleView",
            "description_width": ""
          }
        },
        "51bbd2bbaaa7444cb5479a03492a304d": {
          "model_module": "@jupyter-widgets/controls",
          "model_name": "HBoxModel",
          "model_module_version": "1.5.0",
          "state": {
            "_dom_classes": [],
            "_model_module": "@jupyter-widgets/controls",
            "_model_module_version": "1.5.0",
            "_model_name": "HBoxModel",
            "_view_count": null,
            "_view_module": "@jupyter-widgets/controls",
            "_view_module_version": "1.5.0",
            "_view_name": "HBoxView",
            "box_style": "",
            "children": [
              "IPY_MODEL_fc19b9cd1ee14145ba5bf7461214faea",
              "IPY_MODEL_5a70046ed5ef4a8ca59e8e22548deb47",
              "IPY_MODEL_0302467aa0f3485583d6bf3eed8a1ac7"
            ],
            "layout": "IPY_MODEL_52294674e6844bcb9e04fa34c213f5e4"
          }
        },
        "fc19b9cd1ee14145ba5bf7461214faea": {
          "model_module": "@jupyter-widgets/controls",
          "model_name": "HTMLModel",
          "model_module_version": "1.5.0",
          "state": {
            "_dom_classes": [],
            "_model_module": "@jupyter-widgets/controls",
            "_model_module_version": "1.5.0",
            "_model_name": "HTMLModel",
            "_view_count": null,
            "_view_module": "@jupyter-widgets/controls",
            "_view_module_version": "1.5.0",
            "_view_name": "HTMLView",
            "description": "",
            "description_tooltip": null,
            "layout": "IPY_MODEL_d237f25afe24482791f21eaefafa74d5",
            "placeholder": "​",
            "style": "IPY_MODEL_c0cdd2b088314fd099d104c6e58ff43a",
            "value": "Downloading (…)okenizer_config.json: 100%"
          }
        },
        "5a70046ed5ef4a8ca59e8e22548deb47": {
          "model_module": "@jupyter-widgets/controls",
          "model_name": "FloatProgressModel",
          "model_module_version": "1.5.0",
          "state": {
            "_dom_classes": [],
            "_model_module": "@jupyter-widgets/controls",
            "_model_module_version": "1.5.0",
            "_model_name": "FloatProgressModel",
            "_view_count": null,
            "_view_module": "@jupyter-widgets/controls",
            "_view_module_version": "1.5.0",
            "_view_name": "ProgressView",
            "bar_style": "success",
            "description": "",
            "description_tooltip": null,
            "layout": "IPY_MODEL_10d22b3212cb4618a1632b82106c28f3",
            "max": 331,
            "min": 0,
            "orientation": "horizontal",
            "style": "IPY_MODEL_651945b157a147b8995d07dda1b992f7",
            "value": 331
          }
        },
        "0302467aa0f3485583d6bf3eed8a1ac7": {
          "model_module": "@jupyter-widgets/controls",
          "model_name": "HTMLModel",
          "model_module_version": "1.5.0",
          "state": {
            "_dom_classes": [],
            "_model_module": "@jupyter-widgets/controls",
            "_model_module_version": "1.5.0",
            "_model_name": "HTMLModel",
            "_view_count": null,
            "_view_module": "@jupyter-widgets/controls",
            "_view_module_version": "1.5.0",
            "_view_name": "HTMLView",
            "description": "",
            "description_tooltip": null,
            "layout": "IPY_MODEL_17ea5473768b49069bcc952eea672bf3",
            "placeholder": "​",
            "style": "IPY_MODEL_d471af0518994f9ca864810903f9a902",
            "value": " 331/331 [00:00&lt;00:00, 10.2kB/s]"
          }
        },
        "52294674e6844bcb9e04fa34c213f5e4": {
          "model_module": "@jupyter-widgets/base",
          "model_name": "LayoutModel",
          "model_module_version": "1.2.0",
          "state": {
            "_model_module": "@jupyter-widgets/base",
            "_model_module_version": "1.2.0",
            "_model_name": "LayoutModel",
            "_view_count": null,
            "_view_module": "@jupyter-widgets/base",
            "_view_module_version": "1.2.0",
            "_view_name": "LayoutView",
            "align_content": null,
            "align_items": null,
            "align_self": null,
            "border": null,
            "bottom": null,
            "display": null,
            "flex": null,
            "flex_flow": null,
            "grid_area": null,
            "grid_auto_columns": null,
            "grid_auto_flow": null,
            "grid_auto_rows": null,
            "grid_column": null,
            "grid_gap": null,
            "grid_row": null,
            "grid_template_areas": null,
            "grid_template_columns": null,
            "grid_template_rows": null,
            "height": null,
            "justify_content": null,
            "justify_items": null,
            "left": null,
            "margin": null,
            "max_height": null,
            "max_width": null,
            "min_height": null,
            "min_width": null,
            "object_fit": null,
            "object_position": null,
            "order": null,
            "overflow": null,
            "overflow_x": null,
            "overflow_y": null,
            "padding": null,
            "right": null,
            "top": null,
            "visibility": null,
            "width": null
          }
        },
        "d237f25afe24482791f21eaefafa74d5": {
          "model_module": "@jupyter-widgets/base",
          "model_name": "LayoutModel",
          "model_module_version": "1.2.0",
          "state": {
            "_model_module": "@jupyter-widgets/base",
            "_model_module_version": "1.2.0",
            "_model_name": "LayoutModel",
            "_view_count": null,
            "_view_module": "@jupyter-widgets/base",
            "_view_module_version": "1.2.0",
            "_view_name": "LayoutView",
            "align_content": null,
            "align_items": null,
            "align_self": null,
            "border": null,
            "bottom": null,
            "display": null,
            "flex": null,
            "flex_flow": null,
            "grid_area": null,
            "grid_auto_columns": null,
            "grid_auto_flow": null,
            "grid_auto_rows": null,
            "grid_column": null,
            "grid_gap": null,
            "grid_row": null,
            "grid_template_areas": null,
            "grid_template_columns": null,
            "grid_template_rows": null,
            "height": null,
            "justify_content": null,
            "justify_items": null,
            "left": null,
            "margin": null,
            "max_height": null,
            "max_width": null,
            "min_height": null,
            "min_width": null,
            "object_fit": null,
            "object_position": null,
            "order": null,
            "overflow": null,
            "overflow_x": null,
            "overflow_y": null,
            "padding": null,
            "right": null,
            "top": null,
            "visibility": null,
            "width": null
          }
        },
        "c0cdd2b088314fd099d104c6e58ff43a": {
          "model_module": "@jupyter-widgets/controls",
          "model_name": "DescriptionStyleModel",
          "model_module_version": "1.5.0",
          "state": {
            "_model_module": "@jupyter-widgets/controls",
            "_model_module_version": "1.5.0",
            "_model_name": "DescriptionStyleModel",
            "_view_count": null,
            "_view_module": "@jupyter-widgets/base",
            "_view_module_version": "1.2.0",
            "_view_name": "StyleView",
            "description_width": ""
          }
        },
        "10d22b3212cb4618a1632b82106c28f3": {
          "model_module": "@jupyter-widgets/base",
          "model_name": "LayoutModel",
          "model_module_version": "1.2.0",
          "state": {
            "_model_module": "@jupyter-widgets/base",
            "_model_module_version": "1.2.0",
            "_model_name": "LayoutModel",
            "_view_count": null,
            "_view_module": "@jupyter-widgets/base",
            "_view_module_version": "1.2.0",
            "_view_name": "LayoutView",
            "align_content": null,
            "align_items": null,
            "align_self": null,
            "border": null,
            "bottom": null,
            "display": null,
            "flex": null,
            "flex_flow": null,
            "grid_area": null,
            "grid_auto_columns": null,
            "grid_auto_flow": null,
            "grid_auto_rows": null,
            "grid_column": null,
            "grid_gap": null,
            "grid_row": null,
            "grid_template_areas": null,
            "grid_template_columns": null,
            "grid_template_rows": null,
            "height": null,
            "justify_content": null,
            "justify_items": null,
            "left": null,
            "margin": null,
            "max_height": null,
            "max_width": null,
            "min_height": null,
            "min_width": null,
            "object_fit": null,
            "object_position": null,
            "order": null,
            "overflow": null,
            "overflow_x": null,
            "overflow_y": null,
            "padding": null,
            "right": null,
            "top": null,
            "visibility": null,
            "width": null
          }
        },
        "651945b157a147b8995d07dda1b992f7": {
          "model_module": "@jupyter-widgets/controls",
          "model_name": "ProgressStyleModel",
          "model_module_version": "1.5.0",
          "state": {
            "_model_module": "@jupyter-widgets/controls",
            "_model_module_version": "1.5.0",
            "_model_name": "ProgressStyleModel",
            "_view_count": null,
            "_view_module": "@jupyter-widgets/base",
            "_view_module_version": "1.2.0",
            "_view_name": "StyleView",
            "bar_color": null,
            "description_width": ""
          }
        },
        "17ea5473768b49069bcc952eea672bf3": {
          "model_module": "@jupyter-widgets/base",
          "model_name": "LayoutModel",
          "model_module_version": "1.2.0",
          "state": {
            "_model_module": "@jupyter-widgets/base",
            "_model_module_version": "1.2.0",
            "_model_name": "LayoutModel",
            "_view_count": null,
            "_view_module": "@jupyter-widgets/base",
            "_view_module_version": "1.2.0",
            "_view_name": "LayoutView",
            "align_content": null,
            "align_items": null,
            "align_self": null,
            "border": null,
            "bottom": null,
            "display": null,
            "flex": null,
            "flex_flow": null,
            "grid_area": null,
            "grid_auto_columns": null,
            "grid_auto_flow": null,
            "grid_auto_rows": null,
            "grid_column": null,
            "grid_gap": null,
            "grid_row": null,
            "grid_template_areas": null,
            "grid_template_columns": null,
            "grid_template_rows": null,
            "height": null,
            "justify_content": null,
            "justify_items": null,
            "left": null,
            "margin": null,
            "max_height": null,
            "max_width": null,
            "min_height": null,
            "min_width": null,
            "object_fit": null,
            "object_position": null,
            "order": null,
            "overflow": null,
            "overflow_x": null,
            "overflow_y": null,
            "padding": null,
            "right": null,
            "top": null,
            "visibility": null,
            "width": null
          }
        },
        "d471af0518994f9ca864810903f9a902": {
          "model_module": "@jupyter-widgets/controls",
          "model_name": "DescriptionStyleModel",
          "model_module_version": "1.5.0",
          "state": {
            "_model_module": "@jupyter-widgets/controls",
            "_model_module_version": "1.5.0",
            "_model_name": "DescriptionStyleModel",
            "_view_count": null,
            "_view_module": "@jupyter-widgets/base",
            "_view_module_version": "1.2.0",
            "_view_name": "StyleView",
            "description_width": ""
          }
        },
        "5cea33aea58148f4a2b22f1b23bc102a": {
          "model_module": "@jupyter-widgets/controls",
          "model_name": "HBoxModel",
          "model_module_version": "1.5.0",
          "state": {
            "_dom_classes": [],
            "_model_module": "@jupyter-widgets/controls",
            "_model_module_version": "1.5.0",
            "_model_name": "HBoxModel",
            "_view_count": null,
            "_view_module": "@jupyter-widgets/controls",
            "_view_module_version": "1.5.0",
            "_view_name": "HBoxView",
            "box_style": "",
            "children": [
              "IPY_MODEL_365acc37d0dd4ebc967fa11e9c73de24",
              "IPY_MODEL_63da1baee97d4a8896a9a2a15cbd30c7",
              "IPY_MODEL_89ccc63014654ca2b02dc58b8ad77da6"
            ],
            "layout": "IPY_MODEL_3f09dbdeea764d7cacac8ca73a86615d"
          }
        },
        "365acc37d0dd4ebc967fa11e9c73de24": {
          "model_module": "@jupyter-widgets/controls",
          "model_name": "HTMLModel",
          "model_module_version": "1.5.0",
          "state": {
            "_dom_classes": [],
            "_model_module": "@jupyter-widgets/controls",
            "_model_module_version": "1.5.0",
            "_model_name": "HTMLModel",
            "_view_count": null,
            "_view_module": "@jupyter-widgets/controls",
            "_view_module_version": "1.5.0",
            "_view_name": "HTMLView",
            "description": "",
            "description_tooltip": null,
            "layout": "IPY_MODEL_e63774de43d8462fa08687f58c2c3810",
            "placeholder": "​",
            "style": "IPY_MODEL_5bd8d25a76624e20a8df3f17a1154d3a",
            "value": "Downloading (…)lve/main/config.json: 100%"
          }
        },
        "63da1baee97d4a8896a9a2a15cbd30c7": {
          "model_module": "@jupyter-widgets/controls",
          "model_name": "FloatProgressModel",
          "model_module_version": "1.5.0",
          "state": {
            "_dom_classes": [],
            "_model_module": "@jupyter-widgets/controls",
            "_model_module_version": "1.5.0",
            "_model_name": "FloatProgressModel",
            "_view_count": null,
            "_view_module": "@jupyter-widgets/controls",
            "_view_module_version": "1.5.0",
            "_view_name": "ProgressView",
            "bar_style": "success",
            "description": "",
            "description_tooltip": null,
            "layout": "IPY_MODEL_02bc1fb9ee804461bf8e30e359b8963d",
            "max": 752,
            "min": 0,
            "orientation": "horizontal",
            "style": "IPY_MODEL_9338c5661f1d40fbbf6213f292106981",
            "value": 752
          }
        },
        "89ccc63014654ca2b02dc58b8ad77da6": {
          "model_module": "@jupyter-widgets/controls",
          "model_name": "HTMLModel",
          "model_module_version": "1.5.0",
          "state": {
            "_dom_classes": [],
            "_model_module": "@jupyter-widgets/controls",
            "_model_module_version": "1.5.0",
            "_model_name": "HTMLModel",
            "_view_count": null,
            "_view_module": "@jupyter-widgets/controls",
            "_view_module_version": "1.5.0",
            "_view_name": "HTMLView",
            "description": "",
            "description_tooltip": null,
            "layout": "IPY_MODEL_758fda1113ce436da9a02c88e12887d4",
            "placeholder": "​",
            "style": "IPY_MODEL_6fe6590c4f7d4251867dd885f5d8ce3e",
            "value": " 752/752 [00:00&lt;00:00, 33.9kB/s]"
          }
        },
        "3f09dbdeea764d7cacac8ca73a86615d": {
          "model_module": "@jupyter-widgets/base",
          "model_name": "LayoutModel",
          "model_module_version": "1.2.0",
          "state": {
            "_model_module": "@jupyter-widgets/base",
            "_model_module_version": "1.2.0",
            "_model_name": "LayoutModel",
            "_view_count": null,
            "_view_module": "@jupyter-widgets/base",
            "_view_module_version": "1.2.0",
            "_view_name": "LayoutView",
            "align_content": null,
            "align_items": null,
            "align_self": null,
            "border": null,
            "bottom": null,
            "display": null,
            "flex": null,
            "flex_flow": null,
            "grid_area": null,
            "grid_auto_columns": null,
            "grid_auto_flow": null,
            "grid_auto_rows": null,
            "grid_column": null,
            "grid_gap": null,
            "grid_row": null,
            "grid_template_areas": null,
            "grid_template_columns": null,
            "grid_template_rows": null,
            "height": null,
            "justify_content": null,
            "justify_items": null,
            "left": null,
            "margin": null,
            "max_height": null,
            "max_width": null,
            "min_height": null,
            "min_width": null,
            "object_fit": null,
            "object_position": null,
            "order": null,
            "overflow": null,
            "overflow_x": null,
            "overflow_y": null,
            "padding": null,
            "right": null,
            "top": null,
            "visibility": null,
            "width": null
          }
        },
        "e63774de43d8462fa08687f58c2c3810": {
          "model_module": "@jupyter-widgets/base",
          "model_name": "LayoutModel",
          "model_module_version": "1.2.0",
          "state": {
            "_model_module": "@jupyter-widgets/base",
            "_model_module_version": "1.2.0",
            "_model_name": "LayoutModel",
            "_view_count": null,
            "_view_module": "@jupyter-widgets/base",
            "_view_module_version": "1.2.0",
            "_view_name": "LayoutView",
            "align_content": null,
            "align_items": null,
            "align_self": null,
            "border": null,
            "bottom": null,
            "display": null,
            "flex": null,
            "flex_flow": null,
            "grid_area": null,
            "grid_auto_columns": null,
            "grid_auto_flow": null,
            "grid_auto_rows": null,
            "grid_column": null,
            "grid_gap": null,
            "grid_row": null,
            "grid_template_areas": null,
            "grid_template_columns": null,
            "grid_template_rows": null,
            "height": null,
            "justify_content": null,
            "justify_items": null,
            "left": null,
            "margin": null,
            "max_height": null,
            "max_width": null,
            "min_height": null,
            "min_width": null,
            "object_fit": null,
            "object_position": null,
            "order": null,
            "overflow": null,
            "overflow_x": null,
            "overflow_y": null,
            "padding": null,
            "right": null,
            "top": null,
            "visibility": null,
            "width": null
          }
        },
        "5bd8d25a76624e20a8df3f17a1154d3a": {
          "model_module": "@jupyter-widgets/controls",
          "model_name": "DescriptionStyleModel",
          "model_module_version": "1.5.0",
          "state": {
            "_model_module": "@jupyter-widgets/controls",
            "_model_module_version": "1.5.0",
            "_model_name": "DescriptionStyleModel",
            "_view_count": null,
            "_view_module": "@jupyter-widgets/base",
            "_view_module_version": "1.2.0",
            "_view_name": "StyleView",
            "description_width": ""
          }
        },
        "02bc1fb9ee804461bf8e30e359b8963d": {
          "model_module": "@jupyter-widgets/base",
          "model_name": "LayoutModel",
          "model_module_version": "1.2.0",
          "state": {
            "_model_module": "@jupyter-widgets/base",
            "_model_module_version": "1.2.0",
            "_model_name": "LayoutModel",
            "_view_count": null,
            "_view_module": "@jupyter-widgets/base",
            "_view_module_version": "1.2.0",
            "_view_name": "LayoutView",
            "align_content": null,
            "align_items": null,
            "align_self": null,
            "border": null,
            "bottom": null,
            "display": null,
            "flex": null,
            "flex_flow": null,
            "grid_area": null,
            "grid_auto_columns": null,
            "grid_auto_flow": null,
            "grid_auto_rows": null,
            "grid_column": null,
            "grid_gap": null,
            "grid_row": null,
            "grid_template_areas": null,
            "grid_template_columns": null,
            "grid_template_rows": null,
            "height": null,
            "justify_content": null,
            "justify_items": null,
            "left": null,
            "margin": null,
            "max_height": null,
            "max_width": null,
            "min_height": null,
            "min_width": null,
            "object_fit": null,
            "object_position": null,
            "order": null,
            "overflow": null,
            "overflow_x": null,
            "overflow_y": null,
            "padding": null,
            "right": null,
            "top": null,
            "visibility": null,
            "width": null
          }
        },
        "9338c5661f1d40fbbf6213f292106981": {
          "model_module": "@jupyter-widgets/controls",
          "model_name": "ProgressStyleModel",
          "model_module_version": "1.5.0",
          "state": {
            "_model_module": "@jupyter-widgets/controls",
            "_model_module_version": "1.5.0",
            "_model_name": "ProgressStyleModel",
            "_view_count": null,
            "_view_module": "@jupyter-widgets/base",
            "_view_module_version": "1.2.0",
            "_view_name": "StyleView",
            "bar_color": null,
            "description_width": ""
          }
        },
        "758fda1113ce436da9a02c88e12887d4": {
          "model_module": "@jupyter-widgets/base",
          "model_name": "LayoutModel",
          "model_module_version": "1.2.0",
          "state": {
            "_model_module": "@jupyter-widgets/base",
            "_model_module_version": "1.2.0",
            "_model_name": "LayoutModel",
            "_view_count": null,
            "_view_module": "@jupyter-widgets/base",
            "_view_module_version": "1.2.0",
            "_view_name": "LayoutView",
            "align_content": null,
            "align_items": null,
            "align_self": null,
            "border": null,
            "bottom": null,
            "display": null,
            "flex": null,
            "flex_flow": null,
            "grid_area": null,
            "grid_auto_columns": null,
            "grid_auto_flow": null,
            "grid_auto_rows": null,
            "grid_column": null,
            "grid_gap": null,
            "grid_row": null,
            "grid_template_areas": null,
            "grid_template_columns": null,
            "grid_template_rows": null,
            "height": null,
            "justify_content": null,
            "justify_items": null,
            "left": null,
            "margin": null,
            "max_height": null,
            "max_width": null,
            "min_height": null,
            "min_width": null,
            "object_fit": null,
            "object_position": null,
            "order": null,
            "overflow": null,
            "overflow_x": null,
            "overflow_y": null,
            "padding": null,
            "right": null,
            "top": null,
            "visibility": null,
            "width": null
          }
        },
        "6fe6590c4f7d4251867dd885f5d8ce3e": {
          "model_module": "@jupyter-widgets/controls",
          "model_name": "DescriptionStyleModel",
          "model_module_version": "1.5.0",
          "state": {
            "_model_module": "@jupyter-widgets/controls",
            "_model_module_version": "1.5.0",
            "_model_name": "DescriptionStyleModel",
            "_view_count": null,
            "_view_module": "@jupyter-widgets/base",
            "_view_module_version": "1.2.0",
            "_view_name": "StyleView",
            "description_width": ""
          }
        },
        "bec71374457c4b14a423aba5cfdd6296": {
          "model_module": "@jupyter-widgets/controls",
          "model_name": "HBoxModel",
          "model_module_version": "1.5.0",
          "state": {
            "_dom_classes": [],
            "_model_module": "@jupyter-widgets/controls",
            "_model_module_version": "1.5.0",
            "_model_name": "HBoxModel",
            "_view_count": null,
            "_view_module": "@jupyter-widgets/controls",
            "_view_module_version": "1.5.0",
            "_view_name": "HBoxView",
            "box_style": "",
            "children": [
              "IPY_MODEL_89bfedcb07eb485186026a0f6608f7e0",
              "IPY_MODEL_5bf836f2bdce40feb5eb2b6ab11ab5dd",
              "IPY_MODEL_8cb13695813e45ec989092c870004b83"
            ],
            "layout": "IPY_MODEL_ff2e89001dc64882b6bae31744ff31ed"
          }
        },
        "89bfedcb07eb485186026a0f6608f7e0": {
          "model_module": "@jupyter-widgets/controls",
          "model_name": "HTMLModel",
          "model_module_version": "1.5.0",
          "state": {
            "_dom_classes": [],
            "_model_module": "@jupyter-widgets/controls",
            "_model_module_version": "1.5.0",
            "_model_name": "HTMLModel",
            "_view_count": null,
            "_view_module": "@jupyter-widgets/controls",
            "_view_module_version": "1.5.0",
            "_view_name": "HTMLView",
            "description": "",
            "description_tooltip": null,
            "layout": "IPY_MODEL_3291662be2da447ba4f55d33d5f59f4a",
            "placeholder": "​",
            "style": "IPY_MODEL_3b9684aca35348b4927eb32bc341fd5d",
            "value": "Downloading (…)solve/main/vocab.txt: 100%"
          }
        },
        "5bf836f2bdce40feb5eb2b6ab11ab5dd": {
          "model_module": "@jupyter-widgets/controls",
          "model_name": "FloatProgressModel",
          "model_module_version": "1.5.0",
          "state": {
            "_dom_classes": [],
            "_model_module": "@jupyter-widgets/controls",
            "_model_module_version": "1.5.0",
            "_model_name": "FloatProgressModel",
            "_view_count": null,
            "_view_module": "@jupyter-widgets/controls",
            "_view_module_version": "1.5.0",
            "_view_name": "ProgressView",
            "bar_style": "success",
            "description": "",
            "description_tooltip": null,
            "layout": "IPY_MODEL_4dbfd55a759c48258f83e9f637644db1",
            "max": 1780720,
            "min": 0,
            "orientation": "horizontal",
            "style": "IPY_MODEL_ccd36412be0d4b4ebb9e67095eb11990",
            "value": 1780720
          }
        },
        "8cb13695813e45ec989092c870004b83": {
          "model_module": "@jupyter-widgets/controls",
          "model_name": "HTMLModel",
          "model_module_version": "1.5.0",
          "state": {
            "_dom_classes": [],
            "_model_module": "@jupyter-widgets/controls",
            "_model_module_version": "1.5.0",
            "_model_name": "HTMLModel",
            "_view_count": null,
            "_view_module": "@jupyter-widgets/controls",
            "_view_module_version": "1.5.0",
            "_view_name": "HTMLView",
            "description": "",
            "description_tooltip": null,
            "layout": "IPY_MODEL_8100dea56dd449f88e52cfd9eda1a6c6",
            "placeholder": "​",
            "style": "IPY_MODEL_ee4a03cd058246ad944e30d1021ccd0a",
            "value": " 1.78M/1.78M [00:00&lt;00:00, 10.1MB/s]"
          }
        },
        "ff2e89001dc64882b6bae31744ff31ed": {
          "model_module": "@jupyter-widgets/base",
          "model_name": "LayoutModel",
          "model_module_version": "1.2.0",
          "state": {
            "_model_module": "@jupyter-widgets/base",
            "_model_module_version": "1.2.0",
            "_model_name": "LayoutModel",
            "_view_count": null,
            "_view_module": "@jupyter-widgets/base",
            "_view_module_version": "1.2.0",
            "_view_name": "LayoutView",
            "align_content": null,
            "align_items": null,
            "align_self": null,
            "border": null,
            "bottom": null,
            "display": null,
            "flex": null,
            "flex_flow": null,
            "grid_area": null,
            "grid_auto_columns": null,
            "grid_auto_flow": null,
            "grid_auto_rows": null,
            "grid_column": null,
            "grid_gap": null,
            "grid_row": null,
            "grid_template_areas": null,
            "grid_template_columns": null,
            "grid_template_rows": null,
            "height": null,
            "justify_content": null,
            "justify_items": null,
            "left": null,
            "margin": null,
            "max_height": null,
            "max_width": null,
            "min_height": null,
            "min_width": null,
            "object_fit": null,
            "object_position": null,
            "order": null,
            "overflow": null,
            "overflow_x": null,
            "overflow_y": null,
            "padding": null,
            "right": null,
            "top": null,
            "visibility": null,
            "width": null
          }
        },
        "3291662be2da447ba4f55d33d5f59f4a": {
          "model_module": "@jupyter-widgets/base",
          "model_name": "LayoutModel",
          "model_module_version": "1.2.0",
          "state": {
            "_model_module": "@jupyter-widgets/base",
            "_model_module_version": "1.2.0",
            "_model_name": "LayoutModel",
            "_view_count": null,
            "_view_module": "@jupyter-widgets/base",
            "_view_module_version": "1.2.0",
            "_view_name": "LayoutView",
            "align_content": null,
            "align_items": null,
            "align_self": null,
            "border": null,
            "bottom": null,
            "display": null,
            "flex": null,
            "flex_flow": null,
            "grid_area": null,
            "grid_auto_columns": null,
            "grid_auto_flow": null,
            "grid_auto_rows": null,
            "grid_column": null,
            "grid_gap": null,
            "grid_row": null,
            "grid_template_areas": null,
            "grid_template_columns": null,
            "grid_template_rows": null,
            "height": null,
            "justify_content": null,
            "justify_items": null,
            "left": null,
            "margin": null,
            "max_height": null,
            "max_width": null,
            "min_height": null,
            "min_width": null,
            "object_fit": null,
            "object_position": null,
            "order": null,
            "overflow": null,
            "overflow_x": null,
            "overflow_y": null,
            "padding": null,
            "right": null,
            "top": null,
            "visibility": null,
            "width": null
          }
        },
        "3b9684aca35348b4927eb32bc341fd5d": {
          "model_module": "@jupyter-widgets/controls",
          "model_name": "DescriptionStyleModel",
          "model_module_version": "1.5.0",
          "state": {
            "_model_module": "@jupyter-widgets/controls",
            "_model_module_version": "1.5.0",
            "_model_name": "DescriptionStyleModel",
            "_view_count": null,
            "_view_module": "@jupyter-widgets/base",
            "_view_module_version": "1.2.0",
            "_view_name": "StyleView",
            "description_width": ""
          }
        },
        "4dbfd55a759c48258f83e9f637644db1": {
          "model_module": "@jupyter-widgets/base",
          "model_name": "LayoutModel",
          "model_module_version": "1.2.0",
          "state": {
            "_model_module": "@jupyter-widgets/base",
            "_model_module_version": "1.2.0",
            "_model_name": "LayoutModel",
            "_view_count": null,
            "_view_module": "@jupyter-widgets/base",
            "_view_module_version": "1.2.0",
            "_view_name": "LayoutView",
            "align_content": null,
            "align_items": null,
            "align_self": null,
            "border": null,
            "bottom": null,
            "display": null,
            "flex": null,
            "flex_flow": null,
            "grid_area": null,
            "grid_auto_columns": null,
            "grid_auto_flow": null,
            "grid_auto_rows": null,
            "grid_column": null,
            "grid_gap": null,
            "grid_row": null,
            "grid_template_areas": null,
            "grid_template_columns": null,
            "grid_template_rows": null,
            "height": null,
            "justify_content": null,
            "justify_items": null,
            "left": null,
            "margin": null,
            "max_height": null,
            "max_width": null,
            "min_height": null,
            "min_width": null,
            "object_fit": null,
            "object_position": null,
            "order": null,
            "overflow": null,
            "overflow_x": null,
            "overflow_y": null,
            "padding": null,
            "right": null,
            "top": null,
            "visibility": null,
            "width": null
          }
        },
        "ccd36412be0d4b4ebb9e67095eb11990": {
          "model_module": "@jupyter-widgets/controls",
          "model_name": "ProgressStyleModel",
          "model_module_version": "1.5.0",
          "state": {
            "_model_module": "@jupyter-widgets/controls",
            "_model_module_version": "1.5.0",
            "_model_name": "ProgressStyleModel",
            "_view_count": null,
            "_view_module": "@jupyter-widgets/base",
            "_view_module_version": "1.2.0",
            "_view_name": "StyleView",
            "bar_color": null,
            "description_width": ""
          }
        },
        "8100dea56dd449f88e52cfd9eda1a6c6": {
          "model_module": "@jupyter-widgets/base",
          "model_name": "LayoutModel",
          "model_module_version": "1.2.0",
          "state": {
            "_model_module": "@jupyter-widgets/base",
            "_model_module_version": "1.2.0",
            "_model_name": "LayoutModel",
            "_view_count": null,
            "_view_module": "@jupyter-widgets/base",
            "_view_module_version": "1.2.0",
            "_view_name": "LayoutView",
            "align_content": null,
            "align_items": null,
            "align_self": null,
            "border": null,
            "bottom": null,
            "display": null,
            "flex": null,
            "flex_flow": null,
            "grid_area": null,
            "grid_auto_columns": null,
            "grid_auto_flow": null,
            "grid_auto_rows": null,
            "grid_column": null,
            "grid_gap": null,
            "grid_row": null,
            "grid_template_areas": null,
            "grid_template_columns": null,
            "grid_template_rows": null,
            "height": null,
            "justify_content": null,
            "justify_items": null,
            "left": null,
            "margin": null,
            "max_height": null,
            "max_width": null,
            "min_height": null,
            "min_width": null,
            "object_fit": null,
            "object_position": null,
            "order": null,
            "overflow": null,
            "overflow_x": null,
            "overflow_y": null,
            "padding": null,
            "right": null,
            "top": null,
            "visibility": null,
            "width": null
          }
        },
        "ee4a03cd058246ad944e30d1021ccd0a": {
          "model_module": "@jupyter-widgets/controls",
          "model_name": "DescriptionStyleModel",
          "model_module_version": "1.5.0",
          "state": {
            "_model_module": "@jupyter-widgets/controls",
            "_model_module_version": "1.5.0",
            "_model_name": "DescriptionStyleModel",
            "_view_count": null,
            "_view_module": "@jupyter-widgets/base",
            "_view_module_version": "1.2.0",
            "_view_name": "StyleView",
            "description_width": ""
          }
        },
        "61940c76aff147419d78a9d956294685": {
          "model_module": "@jupyter-widgets/controls",
          "model_name": "HBoxModel",
          "model_module_version": "1.5.0",
          "state": {
            "_dom_classes": [],
            "_model_module": "@jupyter-widgets/controls",
            "_model_module_version": "1.5.0",
            "_model_name": "HBoxModel",
            "_view_count": null,
            "_view_module": "@jupyter-widgets/controls",
            "_view_module_version": "1.5.0",
            "_view_name": "HBoxView",
            "box_style": "",
            "children": [
              "IPY_MODEL_b543cd6765a34873afcd85b5ac1698b4",
              "IPY_MODEL_8f123a85e11340eb933870d03b652ea2",
              "IPY_MODEL_e6ec65bd6a634b15bd1ca1bb8f917c60"
            ],
            "layout": "IPY_MODEL_3053dda2ca304758a7c8d58f482cd819"
          }
        },
        "b543cd6765a34873afcd85b5ac1698b4": {
          "model_module": "@jupyter-widgets/controls",
          "model_name": "HTMLModel",
          "model_module_version": "1.5.0",
          "state": {
            "_dom_classes": [],
            "_model_module": "@jupyter-widgets/controls",
            "_model_module_version": "1.5.0",
            "_model_name": "HTMLModel",
            "_view_count": null,
            "_view_module": "@jupyter-widgets/controls",
            "_view_module_version": "1.5.0",
            "_view_name": "HTMLView",
            "description": "",
            "description_tooltip": null,
            "layout": "IPY_MODEL_40ad910b49d8413eaf53e0e0294fe8d5",
            "placeholder": "​",
            "style": "IPY_MODEL_224f6b43f5ff4910bfb868666ed1a15e",
            "value": "Downloading (…)cial_tokens_map.json: 100%"
          }
        },
        "8f123a85e11340eb933870d03b652ea2": {
          "model_module": "@jupyter-widgets/controls",
          "model_name": "FloatProgressModel",
          "model_module_version": "1.5.0",
          "state": {
            "_dom_classes": [],
            "_model_module": "@jupyter-widgets/controls",
            "_model_module_version": "1.5.0",
            "_model_name": "FloatProgressModel",
            "_view_count": null,
            "_view_module": "@jupyter-widgets/controls",
            "_view_module_version": "1.5.0",
            "_view_name": "ProgressView",
            "bar_style": "success",
            "description": "",
            "description_tooltip": null,
            "layout": "IPY_MODEL_5816d384564d404d9415308939688752",
            "max": 112,
            "min": 0,
            "orientation": "horizontal",
            "style": "IPY_MODEL_cdec5db46439419c8bad4b2162ca56f6",
            "value": 112
          }
        },
        "e6ec65bd6a634b15bd1ca1bb8f917c60": {
          "model_module": "@jupyter-widgets/controls",
          "model_name": "HTMLModel",
          "model_module_version": "1.5.0",
          "state": {
            "_dom_classes": [],
            "_model_module": "@jupyter-widgets/controls",
            "_model_module_version": "1.5.0",
            "_model_name": "HTMLModel",
            "_view_count": null,
            "_view_module": "@jupyter-widgets/controls",
            "_view_module_version": "1.5.0",
            "_view_name": "HTMLView",
            "description": "",
            "description_tooltip": null,
            "layout": "IPY_MODEL_b0a34569d260479f9c0d30b21f6e0eb9",
            "placeholder": "​",
            "style": "IPY_MODEL_5be18c89931d4b1e9b01664f48b5a78d",
            "value": " 112/112 [00:00&lt;00:00, 5.63kB/s]"
          }
        },
        "3053dda2ca304758a7c8d58f482cd819": {
          "model_module": "@jupyter-widgets/base",
          "model_name": "LayoutModel",
          "model_module_version": "1.2.0",
          "state": {
            "_model_module": "@jupyter-widgets/base",
            "_model_module_version": "1.2.0",
            "_model_name": "LayoutModel",
            "_view_count": null,
            "_view_module": "@jupyter-widgets/base",
            "_view_module_version": "1.2.0",
            "_view_name": "LayoutView",
            "align_content": null,
            "align_items": null,
            "align_self": null,
            "border": null,
            "bottom": null,
            "display": null,
            "flex": null,
            "flex_flow": null,
            "grid_area": null,
            "grid_auto_columns": null,
            "grid_auto_flow": null,
            "grid_auto_rows": null,
            "grid_column": null,
            "grid_gap": null,
            "grid_row": null,
            "grid_template_areas": null,
            "grid_template_columns": null,
            "grid_template_rows": null,
            "height": null,
            "justify_content": null,
            "justify_items": null,
            "left": null,
            "margin": null,
            "max_height": null,
            "max_width": null,
            "min_height": null,
            "min_width": null,
            "object_fit": null,
            "object_position": null,
            "order": null,
            "overflow": null,
            "overflow_x": null,
            "overflow_y": null,
            "padding": null,
            "right": null,
            "top": null,
            "visibility": null,
            "width": null
          }
        },
        "40ad910b49d8413eaf53e0e0294fe8d5": {
          "model_module": "@jupyter-widgets/base",
          "model_name": "LayoutModel",
          "model_module_version": "1.2.0",
          "state": {
            "_model_module": "@jupyter-widgets/base",
            "_model_module_version": "1.2.0",
            "_model_name": "LayoutModel",
            "_view_count": null,
            "_view_module": "@jupyter-widgets/base",
            "_view_module_version": "1.2.0",
            "_view_name": "LayoutView",
            "align_content": null,
            "align_items": null,
            "align_self": null,
            "border": null,
            "bottom": null,
            "display": null,
            "flex": null,
            "flex_flow": null,
            "grid_area": null,
            "grid_auto_columns": null,
            "grid_auto_flow": null,
            "grid_auto_rows": null,
            "grid_column": null,
            "grid_gap": null,
            "grid_row": null,
            "grid_template_areas": null,
            "grid_template_columns": null,
            "grid_template_rows": null,
            "height": null,
            "justify_content": null,
            "justify_items": null,
            "left": null,
            "margin": null,
            "max_height": null,
            "max_width": null,
            "min_height": null,
            "min_width": null,
            "object_fit": null,
            "object_position": null,
            "order": null,
            "overflow": null,
            "overflow_x": null,
            "overflow_y": null,
            "padding": null,
            "right": null,
            "top": null,
            "visibility": null,
            "width": null
          }
        },
        "224f6b43f5ff4910bfb868666ed1a15e": {
          "model_module": "@jupyter-widgets/controls",
          "model_name": "DescriptionStyleModel",
          "model_module_version": "1.5.0",
          "state": {
            "_model_module": "@jupyter-widgets/controls",
            "_model_module_version": "1.5.0",
            "_model_name": "DescriptionStyleModel",
            "_view_count": null,
            "_view_module": "@jupyter-widgets/base",
            "_view_module_version": "1.2.0",
            "_view_name": "StyleView",
            "description_width": ""
          }
        },
        "5816d384564d404d9415308939688752": {
          "model_module": "@jupyter-widgets/base",
          "model_name": "LayoutModel",
          "model_module_version": "1.2.0",
          "state": {
            "_model_module": "@jupyter-widgets/base",
            "_model_module_version": "1.2.0",
            "_model_name": "LayoutModel",
            "_view_count": null,
            "_view_module": "@jupyter-widgets/base",
            "_view_module_version": "1.2.0",
            "_view_name": "LayoutView",
            "align_content": null,
            "align_items": null,
            "align_self": null,
            "border": null,
            "bottom": null,
            "display": null,
            "flex": null,
            "flex_flow": null,
            "grid_area": null,
            "grid_auto_columns": null,
            "grid_auto_flow": null,
            "grid_auto_rows": null,
            "grid_column": null,
            "grid_gap": null,
            "grid_row": null,
            "grid_template_areas": null,
            "grid_template_columns": null,
            "grid_template_rows": null,
            "height": null,
            "justify_content": null,
            "justify_items": null,
            "left": null,
            "margin": null,
            "max_height": null,
            "max_width": null,
            "min_height": null,
            "min_width": null,
            "object_fit": null,
            "object_position": null,
            "order": null,
            "overflow": null,
            "overflow_x": null,
            "overflow_y": null,
            "padding": null,
            "right": null,
            "top": null,
            "visibility": null,
            "width": null
          }
        },
        "cdec5db46439419c8bad4b2162ca56f6": {
          "model_module": "@jupyter-widgets/controls",
          "model_name": "ProgressStyleModel",
          "model_module_version": "1.5.0",
          "state": {
            "_model_module": "@jupyter-widgets/controls",
            "_model_module_version": "1.5.0",
            "_model_name": "ProgressStyleModel",
            "_view_count": null,
            "_view_module": "@jupyter-widgets/base",
            "_view_module_version": "1.2.0",
            "_view_name": "StyleView",
            "bar_color": null,
            "description_width": ""
          }
        },
        "b0a34569d260479f9c0d30b21f6e0eb9": {
          "model_module": "@jupyter-widgets/base",
          "model_name": "LayoutModel",
          "model_module_version": "1.2.0",
          "state": {
            "_model_module": "@jupyter-widgets/base",
            "_model_module_version": "1.2.0",
            "_model_name": "LayoutModel",
            "_view_count": null,
            "_view_module": "@jupyter-widgets/base",
            "_view_module_version": "1.2.0",
            "_view_name": "LayoutView",
            "align_content": null,
            "align_items": null,
            "align_self": null,
            "border": null,
            "bottom": null,
            "display": null,
            "flex": null,
            "flex_flow": null,
            "grid_area": null,
            "grid_auto_columns": null,
            "grid_auto_flow": null,
            "grid_auto_rows": null,
            "grid_column": null,
            "grid_gap": null,
            "grid_row": null,
            "grid_template_areas": null,
            "grid_template_columns": null,
            "grid_template_rows": null,
            "height": null,
            "justify_content": null,
            "justify_items": null,
            "left": null,
            "margin": null,
            "max_height": null,
            "max_width": null,
            "min_height": null,
            "min_width": null,
            "object_fit": null,
            "object_position": null,
            "order": null,
            "overflow": null,
            "overflow_x": null,
            "overflow_y": null,
            "padding": null,
            "right": null,
            "top": null,
            "visibility": null,
            "width": null
          }
        },
        "5be18c89931d4b1e9b01664f48b5a78d": {
          "model_module": "@jupyter-widgets/controls",
          "model_name": "DescriptionStyleModel",
          "model_module_version": "1.5.0",
          "state": {
            "_model_module": "@jupyter-widgets/controls",
            "_model_module_version": "1.5.0",
            "_model_name": "DescriptionStyleModel",
            "_view_count": null,
            "_view_module": "@jupyter-widgets/base",
            "_view_module_version": "1.2.0",
            "_view_name": "StyleView",
            "description_width": ""
          }
        },
        "ab587aff856845009bc2bd612200800d": {
          "model_module": "@jupyter-widgets/controls",
          "model_name": "HBoxModel",
          "model_module_version": "1.5.0",
          "state": {
            "_dom_classes": [],
            "_model_module": "@jupyter-widgets/controls",
            "_model_module_version": "1.5.0",
            "_model_name": "HBoxModel",
            "_view_count": null,
            "_view_module": "@jupyter-widgets/controls",
            "_view_module_version": "1.5.0",
            "_view_name": "HBoxView",
            "box_style": "",
            "children": [
              "IPY_MODEL_e3ce74509a1a40c692cc052f414887fe",
              "IPY_MODEL_38c3619aa043402d9d30671f3b439fa3",
              "IPY_MODEL_3c86d59db9dd465c8c2182a33a0517fc"
            ],
            "layout": "IPY_MODEL_7573d47f1f1f4d96968bf9a3a288f5ef"
          }
        },
        "e3ce74509a1a40c692cc052f414887fe": {
          "model_module": "@jupyter-widgets/controls",
          "model_name": "HTMLModel",
          "model_module_version": "1.5.0",
          "state": {
            "_dom_classes": [],
            "_model_module": "@jupyter-widgets/controls",
            "_model_module_version": "1.5.0",
            "_model_name": "HTMLModel",
            "_view_count": null,
            "_view_module": "@jupyter-widgets/controls",
            "_view_module_version": "1.5.0",
            "_view_name": "HTMLView",
            "description": "",
            "description_tooltip": null,
            "layout": "IPY_MODEL_ca621d3ec9474a0cae14f2ded8cc074c",
            "placeholder": "​",
            "style": "IPY_MODEL_81a0571cc4b247319fa9ff3b23b63a5d",
            "value": "Downloading pytorch_model.bin: 100%"
          }
        },
        "38c3619aa043402d9d30671f3b439fa3": {
          "model_module": "@jupyter-widgets/controls",
          "model_name": "FloatProgressModel",
          "model_module_version": "1.5.0",
          "state": {
            "_dom_classes": [],
            "_model_module": "@jupyter-widgets/controls",
            "_model_module_version": "1.5.0",
            "_model_name": "FloatProgressModel",
            "_view_count": null,
            "_view_module": "@jupyter-widgets/controls",
            "_view_module_version": "1.5.0",
            "_view_name": "ProgressView",
            "bar_style": "success",
            "description": "",
            "description_tooltip": null,
            "layout": "IPY_MODEL_568afc61363944268e93686996d65243",
            "max": 1707796287,
            "min": 0,
            "orientation": "horizontal",
            "style": "IPY_MODEL_00080128c88145719f398cb82a8465d1",
            "value": 1707796287
          }
        },
        "3c86d59db9dd465c8c2182a33a0517fc": {
          "model_module": "@jupyter-widgets/controls",
          "model_name": "HTMLModel",
          "model_module_version": "1.5.0",
          "state": {
            "_dom_classes": [],
            "_model_module": "@jupyter-widgets/controls",
            "_model_module_version": "1.5.0",
            "_model_name": "HTMLModel",
            "_view_count": null,
            "_view_module": "@jupyter-widgets/controls",
            "_view_module_version": "1.5.0",
            "_view_name": "HTMLView",
            "description": "",
            "description_tooltip": null,
            "layout": "IPY_MODEL_c8b083115f0d49f5822543db623b3627",
            "placeholder": "​",
            "style": "IPY_MODEL_c641ec9c8f12400a9cc240b3fac2264f",
            "value": " 1.71G/1.71G [00:23&lt;00:00, 31.4MB/s]"
          }
        },
        "7573d47f1f1f4d96968bf9a3a288f5ef": {
          "model_module": "@jupyter-widgets/base",
          "model_name": "LayoutModel",
          "model_module_version": "1.2.0",
          "state": {
            "_model_module": "@jupyter-widgets/base",
            "_model_module_version": "1.2.0",
            "_model_name": "LayoutModel",
            "_view_count": null,
            "_view_module": "@jupyter-widgets/base",
            "_view_module_version": "1.2.0",
            "_view_name": "LayoutView",
            "align_content": null,
            "align_items": null,
            "align_self": null,
            "border": null,
            "bottom": null,
            "display": null,
            "flex": null,
            "flex_flow": null,
            "grid_area": null,
            "grid_auto_columns": null,
            "grid_auto_flow": null,
            "grid_auto_rows": null,
            "grid_column": null,
            "grid_gap": null,
            "grid_row": null,
            "grid_template_areas": null,
            "grid_template_columns": null,
            "grid_template_rows": null,
            "height": null,
            "justify_content": null,
            "justify_items": null,
            "left": null,
            "margin": null,
            "max_height": null,
            "max_width": null,
            "min_height": null,
            "min_width": null,
            "object_fit": null,
            "object_position": null,
            "order": null,
            "overflow": null,
            "overflow_x": null,
            "overflow_y": null,
            "padding": null,
            "right": null,
            "top": null,
            "visibility": null,
            "width": null
          }
        },
        "ca621d3ec9474a0cae14f2ded8cc074c": {
          "model_module": "@jupyter-widgets/base",
          "model_name": "LayoutModel",
          "model_module_version": "1.2.0",
          "state": {
            "_model_module": "@jupyter-widgets/base",
            "_model_module_version": "1.2.0",
            "_model_name": "LayoutModel",
            "_view_count": null,
            "_view_module": "@jupyter-widgets/base",
            "_view_module_version": "1.2.0",
            "_view_name": "LayoutView",
            "align_content": null,
            "align_items": null,
            "align_self": null,
            "border": null,
            "bottom": null,
            "display": null,
            "flex": null,
            "flex_flow": null,
            "grid_area": null,
            "grid_auto_columns": null,
            "grid_auto_flow": null,
            "grid_auto_rows": null,
            "grid_column": null,
            "grid_gap": null,
            "grid_row": null,
            "grid_template_areas": null,
            "grid_template_columns": null,
            "grid_template_rows": null,
            "height": null,
            "justify_content": null,
            "justify_items": null,
            "left": null,
            "margin": null,
            "max_height": null,
            "max_width": null,
            "min_height": null,
            "min_width": null,
            "object_fit": null,
            "object_position": null,
            "order": null,
            "overflow": null,
            "overflow_x": null,
            "overflow_y": null,
            "padding": null,
            "right": null,
            "top": null,
            "visibility": null,
            "width": null
          }
        },
        "81a0571cc4b247319fa9ff3b23b63a5d": {
          "model_module": "@jupyter-widgets/controls",
          "model_name": "DescriptionStyleModel",
          "model_module_version": "1.5.0",
          "state": {
            "_model_module": "@jupyter-widgets/controls",
            "_model_module_version": "1.5.0",
            "_model_name": "DescriptionStyleModel",
            "_view_count": null,
            "_view_module": "@jupyter-widgets/base",
            "_view_module_version": "1.2.0",
            "_view_name": "StyleView",
            "description_width": ""
          }
        },
        "568afc61363944268e93686996d65243": {
          "model_module": "@jupyter-widgets/base",
          "model_name": "LayoutModel",
          "model_module_version": "1.2.0",
          "state": {
            "_model_module": "@jupyter-widgets/base",
            "_model_module_version": "1.2.0",
            "_model_name": "LayoutModel",
            "_view_count": null,
            "_view_module": "@jupyter-widgets/base",
            "_view_module_version": "1.2.0",
            "_view_name": "LayoutView",
            "align_content": null,
            "align_items": null,
            "align_self": null,
            "border": null,
            "bottom": null,
            "display": null,
            "flex": null,
            "flex_flow": null,
            "grid_area": null,
            "grid_auto_columns": null,
            "grid_auto_flow": null,
            "grid_auto_rows": null,
            "grid_column": null,
            "grid_gap": null,
            "grid_row": null,
            "grid_template_areas": null,
            "grid_template_columns": null,
            "grid_template_rows": null,
            "height": null,
            "justify_content": null,
            "justify_items": null,
            "left": null,
            "margin": null,
            "max_height": null,
            "max_width": null,
            "min_height": null,
            "min_width": null,
            "object_fit": null,
            "object_position": null,
            "order": null,
            "overflow": null,
            "overflow_x": null,
            "overflow_y": null,
            "padding": null,
            "right": null,
            "top": null,
            "visibility": null,
            "width": null
          }
        },
        "00080128c88145719f398cb82a8465d1": {
          "model_module": "@jupyter-widgets/controls",
          "model_name": "ProgressStyleModel",
          "model_module_version": "1.5.0",
          "state": {
            "_model_module": "@jupyter-widgets/controls",
            "_model_module_version": "1.5.0",
            "_model_name": "ProgressStyleModel",
            "_view_count": null,
            "_view_module": "@jupyter-widgets/base",
            "_view_module_version": "1.2.0",
            "_view_name": "StyleView",
            "bar_color": null,
            "description_width": ""
          }
        },
        "c8b083115f0d49f5822543db623b3627": {
          "model_module": "@jupyter-widgets/base",
          "model_name": "LayoutModel",
          "model_module_version": "1.2.0",
          "state": {
            "_model_module": "@jupyter-widgets/base",
            "_model_module_version": "1.2.0",
            "_model_name": "LayoutModel",
            "_view_count": null,
            "_view_module": "@jupyter-widgets/base",
            "_view_module_version": "1.2.0",
            "_view_name": "LayoutView",
            "align_content": null,
            "align_items": null,
            "align_self": null,
            "border": null,
            "bottom": null,
            "display": null,
            "flex": null,
            "flex_flow": null,
            "grid_area": null,
            "grid_auto_columns": null,
            "grid_auto_flow": null,
            "grid_auto_rows": null,
            "grid_column": null,
            "grid_gap": null,
            "grid_row": null,
            "grid_template_areas": null,
            "grid_template_columns": null,
            "grid_template_rows": null,
            "height": null,
            "justify_content": null,
            "justify_items": null,
            "left": null,
            "margin": null,
            "max_height": null,
            "max_width": null,
            "min_height": null,
            "min_width": null,
            "object_fit": null,
            "object_position": null,
            "order": null,
            "overflow": null,
            "overflow_x": null,
            "overflow_y": null,
            "padding": null,
            "right": null,
            "top": null,
            "visibility": null,
            "width": null
          }
        },
        "c641ec9c8f12400a9cc240b3fac2264f": {
          "model_module": "@jupyter-widgets/controls",
          "model_name": "DescriptionStyleModel",
          "model_module_version": "1.5.0",
          "state": {
            "_model_module": "@jupyter-widgets/controls",
            "_model_module_version": "1.5.0",
            "_model_name": "DescriptionStyleModel",
            "_view_count": null,
            "_view_module": "@jupyter-widgets/base",
            "_view_module_version": "1.2.0",
            "_view_name": "StyleView",
            "description_width": ""
          }
        }
      }
    }
  },
  "cells": [
    {
      "cell_type": "markdown",
      "source": [
        "# Извлечение признаков из изображений"
      ],
      "metadata": {
        "id": "Byu2RMHEYK5B"
      }
    },
    {
      "cell_type": "code",
      "source": [
        "!pip install --upgrade -q gdown\n",
        "!pip install html2text -q\n",
        "!pip install timm -q\n",
        "\n",
        "!mkdir /content/data/\n",
        "!gdown 14dYvGXRVD1Prtr7SXHrwO6ZpfGk0F5aT\n",
        "!unzip /content/internship_2023.zip -d /content/data/"
      ],
      "metadata": {
        "id": "9K1sl-qBgrrS",
        "colab": {
          "base_uri": "https://localhost:8080/"
        },
        "outputId": "2b32b00a-a5c8-4529-c695-30cf7af795cb"
      },
      "execution_count": null,
      "outputs": [
        {
          "output_type": "stream",
          "name": "stdout",
          "text": [
            "\u001b[2K     \u001b[90m━━━━━━━━━━━━━━━━━━━━━━━━━━━━━━━━━━━━━━━\u001b[0m \u001b[32m549.1/549.1 KB\u001b[0m \u001b[31m6.8 MB/s\u001b[0m eta \u001b[36m0:00:00\u001b[0m\n",
            "\u001b[2K     \u001b[90m━━━━━━━━━━━━━━━━━━━━━━━━━━━━━━━━━━━━━━━\u001b[0m \u001b[32m199.2/199.2 KB\u001b[0m \u001b[31m7.6 MB/s\u001b[0m eta \u001b[36m0:00:00\u001b[0m\n",
            "\u001b[?25h"
          ]
        }
      ]
    },
    {
      "cell_type": "code",
      "source": [
        "import pandas as pd\n",
        "from ast import literal_eval\n",
        "from html2text import HTML2Text\n",
        "\n",
        "from tqdm import tqdm\n",
        "from glob import glob\n",
        "import os\n",
        "\n",
        "import timm\n",
        "from PIL import Image\n",
        "import torch\n",
        "import torchvision.transforms as transforms\n",
        "from torch.utils.data import Dataset, DataLoader"
      ],
      "metadata": {
        "id": "itovuawlaMvF"
      },
      "execution_count": null,
      "outputs": []
    },
    {
      "cell_type": "code",
      "source": [
        "class ProductImagesDataset(Dataset):\n",
        "    \"\"\"Датасет изображений продуктов\n",
        "        Вход:\n",
        "        root_dir - директория, в которой располагаются фотографии\n",
        "        transform - желаемое преобразование изображений\"\"\"\n",
        "    def __init__(self, root_dir : str, transform=None):\n",
        "        self.img_list = glob(root_dir + '/*.jpg')\n",
        "        self.root_dir = root_dir\n",
        "        self.transform = transform\n",
        "    \n",
        "\n",
        "    def __len__(self):\n",
        "        return len(self.img_list)\n",
        "\n",
        "    # возвращает tuple из product_id и изображения\n",
        "    def __getitem__(self, idx):\n",
        "        im_path = self.img_list[idx]\n",
        "        product_id = int(os.path.basename(im_path)[:-4])\n",
        "        im = Image.open(im_path)\n",
        "\n",
        "        if self.transform is not None:\n",
        "            return (product_id, self.transform(im))\n",
        "        return (product_id, im)"
      ],
      "metadata": {
        "id": "OnqSDxHehhUU"
      },
      "execution_count": null,
      "outputs": []
    },
    {
      "cell_type": "code",
      "source": [
        "def create_image_features(img_data, img_feature_extr, device, path='/content'):\n",
        "    \"\"\"\n",
        "    Создает таблицу признаков изображений, в последнем столбце - product_id\n",
        "    Вход:\n",
        "     img_data - датасет фотографий\n",
        "     img_feature_extr - feature_extractor изображений\n",
        "     dataframe - табличные данные \n",
        "     path - директория, в которую сохранится таблица признаков\n",
        "    Выход:\n",
        "     Сохраняет dataframe мета признаков изображений\"\"\"\n",
        "\n",
        "    device = 'cuda:0' if torch.cuda.is_available() else 'cpu'\n",
        "\n",
        "    features_df = []\n",
        "    loader = DataLoader(img_data, batch_size=5, shuffle=False, num_workers=2)\n",
        "\n",
        "    print(\"Обработка изображений\")\n",
        "    for product_id, im in tqdm(loader):\n",
        "        # получение фичей\n",
        "        features = img_model(im.to(device))\n",
        "\n",
        "        # запись в массив\n",
        "        for i, out in enumerate(features):\n",
        "            features_df.append(out.tolist() + [product_id[i].tolist()])\n",
        "    \n",
        "    # сохранение\n",
        "    np.save(path + '/image_features', features_df)"
      ],
      "metadata": {
        "id": "FCrWfnTheCXG"
      },
      "execution_count": null,
      "outputs": []
    },
    {
      "cell_type": "code",
      "source": [
        "# модель, которая принимает на вход изображение, а возвращает вектор признаков\n",
        "img_model = timm.create_model('maxxvit_rmlp_nano_rw_256', num_classes=0, pretrained=True)\n",
        "img_model.to(device)\n",
        "img_model.eval()\n",
        "\n",
        "# трансформация изображение в тензор и нормализация\n",
        "transform = transforms.Compose([transforms.PILToTensor(),\n",
        "                                transforms.ConvertImageDtype(torch.float),\n",
        "                                transforms.Normalize([0.485, 0.456, 0.406], [0.229, 0.224, 0.225])])\n",
        "\n",
        "# инициализация данных\n",
        "train = pd.read_parquet(\"/content/data/train.parquet\")\n",
        "image_dataset = ProductImagesDataset('/content/data/images/train', transform=transform)\n",
        "\n",
        "# создание фичей\n",
        "create_image_features(image_dataset, img_model)"
      ],
      "metadata": {
        "id": "Zw_flHWr-u1Q",
        "colab": {
          "base_uri": "https://localhost:8080/"
        },
        "outputId": "d800b76b-27b4-40fd-9370-6a663d8f5cc6"
      },
      "execution_count": null,
      "outputs": [
        {
          "output_type": "stream",
          "name": "stderr",
          "text": [
            "<ipython-input-7-1ed35acd0af0>:17: PerformanceWarning: DataFrame is highly fragmented.  This is usually the result of calling `frame.insert` many times, which has poor performance.  Consider joining all columns at once using pd.concat(axis=1) instead.  To get a de-fragmented frame, use `newframe = frame.copy()`\n",
            "  features_df[f'mf_{i}'] = ''\n"
          ]
        },
        {
          "output_type": "stream",
          "name": "stdout",
          "text": [
            "Обработка изображений\n"
          ]
        },
        {
          "output_type": "stream",
          "name": "stderr",
          "text": [
            "100%|██████████| 18224/18224 [2:48:13<00:00,  1.81it/s]\n"
          ]
        }
      ]
    },
    {
      "cell_type": "markdown",
      "source": [
        "Изначально я сохранял данные в pd.DataFrame, но из-за сильного падения кол-ва итераций по мере заполнения датафрейма пришлось переключиться на формат npy. Именно поэтому фичи для train и test подгружаются в разных форматах."
      ],
      "metadata": {
        "id": "crntNFJMTjB1"
      }
    },
    {
      "cell_type": "markdown",
      "source": [
        "## Проверка валидности признаков"
      ],
      "metadata": {
        "id": "5TONCjwyCtCZ"
      }
    },
    {
      "cell_type": "code",
      "source": [
        "from sklearn.metrics import f1_score\n",
        "from sklearn.model_selection import train_test_split\n",
        "from sklearn.neighbors import KNeighborsClassifier"
      ],
      "metadata": {
        "id": "EPPgHcpzC7sN"
      },
      "execution_count": null,
      "outputs": []
    },
    {
      "cell_type": "code",
      "source": [
        "train = pd.read_parquet(\"/content/data/train.parquet\")\n",
        "img_features = pd.read_csv('/content/data/features.csv')\n",
        "\n",
        "# объединение данных по product_id\n",
        "data = pd.merge(train, feat, on='product_id')\n",
        "\n",
        "# удаление ненужных столбцов\n",
        "data.drop(['product_id','sale','shop_id','shop_title','rating', 'text_fields', 'category_name'], axis=1, inplace=True)"
      ],
      "metadata": {
        "id": "DBtTmYSa29yI"
      },
      "execution_count": null,
      "outputs": []
    },
    {
      "cell_type": "code",
      "source": [
        "X = data[list(set(data.columns) - set(['category_id']))]\n",
        "y = data['category_id']\n",
        "\n",
        "X_train, X_test, y_train, y_test = train_test_split(X, y, test_size=0.2, shuffle=True)\n",
        "\n",
        "# иногда некоторые классы не попадают в train выборку\n",
        "# при финальном обучении будет использоваться стратификация\n",
        "assert len(y_train.unique()) == 874, 'Не все классы попали в train выборку'"
      ],
      "metadata": {
        "id": "SOzYDlq7Ee0u"
      },
      "execution_count": null,
      "outputs": []
    },
    {
      "cell_type": "code",
      "source": [
        "model = KNeighborsClassifier(n_neighbors=5)\n",
        "model.fit(X_train, y_train)"
      ],
      "metadata": {
        "id": "5VNLp9_uEwxO"
      },
      "execution_count": null,
      "outputs": []
    },
    {
      "cell_type": "code",
      "source": [
        "print(\"F1 score:\", f1_score(y_test, model.predict(X_test), average='weighted'))"
      ],
      "metadata": {
        "colab": {
          "base_uri": "https://localhost:8080/"
        },
        "id": "2y0a4kObE9Dq",
        "outputId": "3826b542-825b-4fcc-f2ca-b5693481b8c3"
      },
      "execution_count": null,
      "outputs": [
        {
          "output_type": "stream",
          "name": "stdout",
          "text": [
            "F1 score: 0.5168456250681353\n"
          ]
        }
      ]
    },
    {
      "cell_type": "markdown",
      "source": [
        "Получили неплохое качество, используя только изображения. Это говорит о том, что признаки отражают суть классов."
      ],
      "metadata": {
        "id": "Lm5UAUpOF04z"
      }
    },
    {
      "cell_type": "markdown",
      "source": [
        "# Извлечение признаков из описания"
      ],
      "metadata": {
        "id": "VuuJfFehGqww"
      }
    },
    {
      "cell_type": "code",
      "source": [
        "!pip install --upgrade -q gdown\n",
        "!pip install html2text -q\n",
        "!pip install transformers -q\n",
        "\n",
        "!mkdir /content/data/\n",
        "!gdown 14dYvGXRVD1Prtr7SXHrwO6ZpfGk0F5aT\n",
        "!unzip /content/internship_2023.zip -d /content/data/"
      ],
      "metadata": {
        "id": "7BU8m8QApW5s",
        "colab": {
          "base_uri": "https://localhost:8080/"
        },
        "outputId": "832a4ada-94d2-4a48-fdba-8b761d95f850"
      },
      "execution_count": null,
      "outputs": [
        {
          "output_type": "stream",
          "name": "stdout",
          "text": [
            "\u001b[2K     \u001b[90m━━━━━━━━━━━━━━━━━━━━━━━━━━━━━━━━━━━━━━━━\u001b[0m \u001b[32m6.7/6.7 MB\u001b[0m \u001b[31m56.9 MB/s\u001b[0m eta \u001b[36m0:00:00\u001b[0m\n",
            "\u001b[2K     \u001b[90m━━━━━━━━━━━━━━━━━━━━━━━━━━━━━━━━━━━━━━\u001b[0m \u001b[32m199.2/199.2 KB\u001b[0m \u001b[31m20.4 MB/s\u001b[0m eta \u001b[36m0:00:00\u001b[0m\n",
            "\u001b[2K     \u001b[90m━━━━━━━━━━━━━━━━━━━━━━━━━━━━━━━━━━━━━━━━\u001b[0m \u001b[32m7.6/7.6 MB\u001b[0m \u001b[31m71.0 MB/s\u001b[0m eta \u001b[36m0:00:00\u001b[0m\n",
            "\u001b[?25h"
          ]
        }
      ]
    },
    {
      "cell_type": "code",
      "source": [
        "import pandas as pd\n",
        "import numpy as np\n",
        "from ast import literal_eval\n",
        "from html2text import HTML2Text\n",
        "\n",
        "import torch\n",
        "from transformers import AutoTokenizer, AutoModel\n",
        "from torch.utils.data import Dataset, DataLoader\n",
        "\n",
        "from tqdm import tqdm"
      ],
      "metadata": {
        "id": "J2CsaROZViW1"
      },
      "execution_count": null,
      "outputs": []
    },
    {
      "cell_type": "code",
      "source": [
        "def parse_text_fields(df, parser):\n",
        "    \"\"\" Функция, которая преобразует text_fields в отдельные столбцы inplace\n",
        "    df - табличные данные\n",
        "    parser - парсер HTML кода\"\"\"\n",
        "    \n",
        "    # преобразование str в dict\n",
        "    df['text_fields'] = df['text_fields'].apply(literal_eval)\n",
        "\n",
        "    # преобразование text_fields в отдельные столбцы\n",
        "    for key in df['text_fields'].iloc[0].keys():\n",
        "        df[key] = df['text_fields'].apply(lambda x: x[key])\n",
        "\n",
        "    # преобразовние descriprion из html в текст\n",
        "    df['description'] = df['description'].apply(parser.handle)\n",
        "\n",
        "    # очистка descriprion от лишних символов\n",
        "    df['description'] = df['description'].apply(lambda x: x.replace('\\n', ''))\n",
        "    df['description'] = df['description'].apply(lambda x: x.replace('\\\\', ''))\n",
        "    df['description'] = df['description'].apply(lambda x: x.replace('*', ''))\n",
        "\n",
        "\n",
        "    df.drop('text_fields', axis=1, inplace=True)"
      ],
      "metadata": {
        "id": "7HZzBzuJWE9C"
      },
      "execution_count": null,
      "outputs": []
    },
    {
      "cell_type": "code",
      "source": [
        "# парсинг text_fields\n",
        "train = pd.read_parquet('/content/data/train.parquet')\n",
        "\n",
        "parser = HTML2Text()\n",
        "parser.escape_snob = True\n",
        "parser.ignore_anchors = True\n",
        "parser.skip_internal_links = True\n",
        "parser.ignore_links = True\n",
        "parser.ignore_images = True\n",
        "\n",
        "parse_text_fields(train, parser)"
      ],
      "metadata": {
        "id": "0_x5jOROfays"
      },
      "execution_count": null,
      "outputs": []
    },
    {
      "cell_type": "code",
      "source": [
        "def mean_pooling(model_output, attention_mask):\n",
        "    token_embeddings = model_output[0] \n",
        "    input_mask_expanded = attention_mask.unsqueeze(-1).expand(token_embeddings.size()).float()\n",
        "    sum_embeddings = torch.sum(token_embeddings * input_mask_expanded, 1)\n",
        "    sum_mask = torch.clamp(input_mask_expanded.sum(1), min=1e-9)\n",
        "    return sum_embeddings / sum_mask\n",
        "\n",
        "\n",
        "def create_decription_features(model, tokenizer, df, path='/content'):\n",
        "    \"\"\" Функция, которая создает векторное описание description и сохраняет\n",
        "    полученные признаки в формате npy\n",
        "    tokenizer - функция которая разбивает текст на блоки\n",
        "    model - обрабатывает поступивший текст\n",
        "    df - табличные данные\n",
        "    path - путь для сохранения признаков\"\"\"\n",
        "\n",
        "    device = 'cuda:0' if torch.cuda.is_available() else 'cpu'\n",
        "    model.to(device)\n",
        "    print('Device:', device)\n",
        "    \n",
        "    sentences = df['description'].tolist()\n",
        "    ids = df['product_id'].tolist()\n",
        "    sentence_embeddings = []\n",
        "\n",
        "    print(\"Извлечение признаков:\")\n",
        "    for sen in tqdm(sentences):\n",
        "        encoded_input = tokenizer([sen], padding=True, truncation=True, max_length=120, return_tensors='pt').to(device)\n",
        "        with torch.no_grad():\n",
        "            model_output = model(**encoded_input)\n",
        "        sentence_embeddings.append(mean_pooling(model_output, encoded_input['attention_mask']).tolist()[0])\n",
        "\n",
        "    print(\"\\n\", 'Сохраниние признаков:')\n",
        "    for i, emb in enumerate(sentence_embeddings):\n",
        "        sentence_embeddings[i].append(ids[i])\n",
        "    \n",
        "    np.save(path + '/text_features', sentence_embeddings)\n",
        "    print(\"Признаки сохранены в \", path)"
      ],
      "metadata": {
        "id": "3Fj_wm44qwbF"
      },
      "execution_count": null,
      "outputs": []
    },
    {
      "cell_type": "code",
      "source": [
        "tokenizer = AutoTokenizer.from_pretrained(\"sberbank-ai/sbert_large_mt_nlu_ru\")\n",
        "model = AutoModel.from_pretrained(\"sberbank-ai/sbert_large_mt_nlu_ru\")\n",
        "\n",
        "create_decription_features(model, tokenizer, train)"
      ],
      "metadata": {
        "colab": {
          "base_uri": "https://localhost:8080/",
          "height": 281,
          "referenced_widgets": [
            "3f58b00380a84ea393b2047b04cf019c",
            "241a6829481d4e14aa57bb3fdce26dad",
            "c47cc90c35bc4380b6030c0852df60ad",
            "b9cedd1b06834318b679830751b967b5",
            "87a7679e269540d397a426f39a1780ba",
            "8d19b87718204b97ba9c7ff3b8276acc",
            "631b86ca931b4fb78a65df63414ea949",
            "6ea791588ef0424ea5e1401056befc73",
            "8c86b3fb9eb74d73a154fc7257bd7ae2",
            "105037ab78624cdca8a1930cb3405284",
            "351b744051be40eeb047de0da07a077c",
            "c3b74cc5ae684bbc84349756d1829cc3",
            "bff39312e6c14b7a926830dfd1ee6c21",
            "ee93d2d443b341ed87e00b13e33d62e2",
            "2044f69275814fc09cfb47ce4419d2a7",
            "16e3ef4200b5470bb66610711d143be7",
            "4fd3006e1612406f96d749ef9b38618f",
            "06f2b7cdc6154437b489eded465aa5db",
            "1170f2589f904d0fbca8481b7485f268",
            "f642858d749445558dc0b761fd85f557",
            "9d6a051db2854c4eb2d60d3f10633b08",
            "158ce043b6bd461c87cd801e14f52fea",
            "ff14ad5c5e044e7882b85a561f8ae0fd",
            "f6d333d7ab6e4f7298bc21dc483cf3f2",
            "ad17443edb464699a7ab159458a40b82",
            "a29af73fd42e446e83c945f4d253572e",
            "c135f85a327f4af686edf131f38d01f5",
            "e1ff73aded234b5da514216d2d3c4860",
            "deb19215d2e0433a8d3b957a3d2c652e",
            "bb0e63bc8d4e4501b43ffb41b9cab667",
            "021a708ebc2c4d77816342408b379995",
            "669ccb5e0e99437e9e64438d58d34583",
            "b03ca74e07f34d69aa599f52a67f2467",
            "806cd6e512354454b4730fa072d64ae1",
            "b1239e19e9374391a69c7bab9e8dc2a3",
            "e95c832915e94969afef72c26147c9d6",
            "f2d7b035e0014afcb92ad3f1c7dc431a",
            "2d666a904cfe41f39d27bc6e85a15551",
            "6a3a147862004e6fa49dc7c3b2a11180",
            "643bc6ee67424a5a88568ac0aea166f0",
            "837c45ddf96142b59ce79f63f8830047",
            "0e929960749241e9ae198074daca7430",
            "d882c08ed110400093020d1b5c918335",
            "38576e7144c8414f89df02653f7a7437",
            "cf6007a7114f438eb675e5331969cda9",
            "a49b061f85cc451a8b178b4b8f66205d",
            "284dad713bc04fb69c2f49e541047f53",
            "40ccd22b29b14d4d8fc364534f199426",
            "1d145102db7349889a385b50b4e658f2",
            "5107d1fbaab74e878ae2d01f1600c90e",
            "2d12b56a34d341a38835465df718727c",
            "b561029acbdd4d2d8ec3f5a0f495cd7b",
            "320cca5042fe4afd8de74e95f539c19d",
            "22d042bce22f4969a3330f713811aefc",
            "3271cb4b0df540dab86c9193585651ce"
          ]
        },
        "id": "dse90YDGlC4I",
        "outputId": "748b8435-b2ff-4084-bf34-e0dd5e8db11f"
      },
      "execution_count": null,
      "outputs": [
        {
          "output_type": "display_data",
          "data": {
            "text/plain": [
              "Downloading (…)okenizer_config.json:   0%|          | 0.00/331 [00:00<?, ?B/s]"
            ],
            "application/vnd.jupyter.widget-view+json": {
              "version_major": 2,
              "version_minor": 0,
              "model_id": "3f58b00380a84ea393b2047b04cf019c"
            }
          },
          "metadata": {}
        },
        {
          "output_type": "display_data",
          "data": {
            "text/plain": [
              "Downloading (…)lve/main/config.json:   0%|          | 0.00/752 [00:00<?, ?B/s]"
            ],
            "application/vnd.jupyter.widget-view+json": {
              "version_major": 2,
              "version_minor": 0,
              "model_id": "c3b74cc5ae684bbc84349756d1829cc3"
            }
          },
          "metadata": {}
        },
        {
          "output_type": "display_data",
          "data": {
            "text/plain": [
              "Downloading (…)solve/main/vocab.txt:   0%|          | 0.00/1.78M [00:00<?, ?B/s]"
            ],
            "application/vnd.jupyter.widget-view+json": {
              "version_major": 2,
              "version_minor": 0,
              "model_id": "ff14ad5c5e044e7882b85a561f8ae0fd"
            }
          },
          "metadata": {}
        },
        {
          "output_type": "display_data",
          "data": {
            "text/plain": [
              "Downloading (…)cial_tokens_map.json:   0%|          | 0.00/112 [00:00<?, ?B/s]"
            ],
            "application/vnd.jupyter.widget-view+json": {
              "version_major": 2,
              "version_minor": 0,
              "model_id": "806cd6e512354454b4730fa072d64ae1"
            }
          },
          "metadata": {}
        },
        {
          "output_type": "display_data",
          "data": {
            "text/plain": [
              "Downloading pytorch_model.bin:   0%|          | 0.00/1.71G [00:00<?, ?B/s]"
            ],
            "application/vnd.jupyter.widget-view+json": {
              "version_major": 2,
              "version_minor": 0,
              "model_id": "cf6007a7114f438eb675e5331969cda9"
            }
          },
          "metadata": {}
        },
        {
          "output_type": "stream",
          "name": "stdout",
          "text": [
            "Device: cuda:0\n",
            "Извлечение признаков:\n"
          ]
        },
        {
          "output_type": "stream",
          "name": "stderr",
          "text": [
            "100%|██████████| 91120/91120 [42:57<00:00, 35.36it/s]\n"
          ]
        },
        {
          "output_type": "stream",
          "name": "stdout",
          "text": [
            "\n",
            " Сохраниние признаков:\n",
            "Признаки сохранены в  /content\n"
          ]
        }
      ]
    },
    {
      "cell_type": "markdown",
      "source": [
        "## Проверка валидности признаков\n"
      ],
      "metadata": {
        "id": "Gx9YSs4fuHNs"
      }
    },
    {
      "cell_type": "markdown",
      "source": [
        "Обучим KNN на новых признаках"
      ],
      "metadata": {
        "id": "oPGQuy7fdndI"
      }
    },
    {
      "cell_type": "code",
      "source": [
        "from sklearn.metrics import f1_score\n",
        "from sklearn.model_selection import train_test_split\n",
        "from sklearn.neighbors import KNeighborsClassifier"
      ],
      "metadata": {
        "id": "kJwqRLzxXPCu"
      },
      "execution_count": null,
      "outputs": []
    },
    {
      "cell_type": "code",
      "source": [
        "# загрузка данных\n",
        "text = np.load('/content/text_features.npy')\n",
        "train = pd.read_parquet('/content/data/train.parquet')\n",
        "\n",
        "# инициализация столбцов текстовых признаков\n",
        "columns=[]\n",
        "for i in range(1024):\n",
        "    columns.append(f'txt_mf_{i}')\n",
        "columns.append('product_id')\n",
        "\n",
        "# объеденение данных\n",
        "text_features = pd.DataFrame(data=text,columns=columns)\n",
        "data = pd.merge(text_features, train, on='product_id')"
      ],
      "metadata": {
        "id": "DZqX6lO0VFaP"
      },
      "execution_count": null,
      "outputs": []
    },
    {
      "cell_type": "code",
      "source": [
        "X = data[list(set(data.columns.tolist()) - set(train.columns.tolist()))]\n",
        "y = data['category_id']"
      ],
      "metadata": {
        "id": "2jz_IRBQWDPE"
      },
      "execution_count": null,
      "outputs": []
    },
    {
      "cell_type": "code",
      "source": [
        "X_train, X_test, y_train, y_test = train_test_split(X, y, test_size=0.2, shuffle=True)\n",
        "\n",
        "# иногда некоторые классы не попадают в train выборку\n",
        "assert len(y_train.unique()) == 874, 'Не все классы попали в train выборку'"
      ],
      "metadata": {
        "id": "MAVXx026W375"
      },
      "execution_count": null,
      "outputs": []
    },
    {
      "cell_type": "code",
      "source": [
        "model = KNeighborsClassifier(n_neighbors=5)\n",
        "model.fit(X_train, y_train)"
      ],
      "metadata": {
        "id": "HWaF-TVdXT67"
      },
      "execution_count": null,
      "outputs": []
    },
    {
      "cell_type": "code",
      "source": [
        "print(\"F1 score:\", f1_score(y_test, model.predict(X_test), average='weighted'))"
      ],
      "metadata": {
        "colab": {
          "base_uri": "https://localhost:8080/"
        },
        "id": "J_PlQT6CXWuz",
        "outputId": "68ed97d6-8608-49f0-8a7e-73dea1489715"
      },
      "execution_count": null,
      "outputs": [
        {
          "output_type": "stream",
          "name": "stdout",
          "text": [
            "F1 score: 0.6532813226488928\n"
          ]
        }
      ]
    },
    {
      "cell_type": "markdown",
      "source": [
        "Получили неплохое качестово, это значит, что признаковое описание отражает суть классов\n",
        "\n"
      ],
      "metadata": {
        "id": "fQXVaZb8uNJF"
      }
    },
    {
      "cell_type": "markdown",
      "source": [
        "# Извлечения признаков из названия продукта"
      ],
      "metadata": {
        "id": "1fQistbe2LfM"
      }
    },
    {
      "cell_type": "markdown",
      "source": [
        "Действуем по аналогии с извлечение признаков из description, отличая будут только в параметрах токенайзера, так как в title содержится меньше слов, чем в description."
      ],
      "metadata": {
        "id": "Hwefq74Cd3sV"
      }
    },
    {
      "cell_type": "code",
      "source": [
        "!pip install --upgrade -q gdown\n",
        "!pip install html2text -q\n",
        "!pip install transformers -q\n",
        "\n",
        "!mkdir /content/data/\n",
        "!gdown 14dYvGXRVD1Prtr7SXHrwO6ZpfGk0F5aT\n",
        "!unzip /content/internship_2023.zip -d /content/data/"
      ],
      "metadata": {
        "colab": {
          "base_uri": "https://localhost:8080/"
        },
        "id": "eBm8ggjLgeGn",
        "outputId": "3a4e751a-e256-4239-a693-e952a26ed727"
      },
      "execution_count": null,
      "outputs": [
        {
          "output_type": "stream",
          "name": "stdout",
          "text": [
            "\u001b[2K     \u001b[90m━━━━━━━━━━━━━━━━━━━━━━━━━━━━━━━━━━━━━━━━\u001b[0m \u001b[32m6.7/6.7 MB\u001b[0m \u001b[31m56.7 MB/s\u001b[0m eta \u001b[36m0:00:00\u001b[0m\n",
            "\u001b[2K     \u001b[90m━━━━━━━━━━━━━━━━━━━━━━━━━━━━━━━━━━━━━━━━\u001b[0m \u001b[32m7.6/7.6 MB\u001b[0m \u001b[31m40.5 MB/s\u001b[0m eta \u001b[36m0:00:00\u001b[0m\n",
            "\u001b[2K     \u001b[90m━━━━━━━━━━━━━━━━━━━━━━━━━━━━━━━━━━━━━━━\u001b[0m \u001b[32m199.2/199.2 KB\u001b[0m \u001b[31m1.2 MB/s\u001b[0m eta \u001b[36m0:00:00\u001b[0m\n",
            "\u001b[?25h"
          ]
        }
      ]
    },
    {
      "cell_type": "code",
      "source": [
        "import pandas as pd\n",
        "import numpy as np\n",
        "from ast import literal_eval\n",
        "\n",
        "import torch\n",
        "from transformers import AutoTokenizer, AutoModel\n",
        "from torch.utils.data import Dataset, DataLoader\n",
        "\n",
        "from tqdm import tqdm"
      ],
      "metadata": {
        "id": "wl8NoH7XguKm"
      },
      "execution_count": null,
      "outputs": []
    },
    {
      "cell_type": "code",
      "source": [
        "def mean_pooling(model_output, attention_mask):\n",
        "    token_embeddings = model_output[0] \n",
        "    input_mask_expanded = attention_mask.unsqueeze(-1).expand(token_embeddings.size()).float()\n",
        "    sum_embeddings = torch.sum(token_embeddings * input_mask_expanded, 1)\n",
        "    sum_mask = torch.clamp(input_mask_expanded.sum(1), min=1e-9)\n",
        "    return sum_embeddings / sum_mask\n",
        "\n",
        "\n",
        "def create_title_features(model, tokenizer, df, path='/content'):\n",
        "    \"\"\" Функция, которая создает векторное описание title и сохраняет\n",
        "    полученные признаки в формате npy\n",
        "    tokenizer - функция которая разбивает текст на блоки\n",
        "    model - обрабатывает поступивший текст\n",
        "    df - табличные данные\n",
        "    path - путь для сохранения признаков\"\"\"\n",
        "    \n",
        "    device = 'cuda:0' if torch.cuda.is_available() else 'cpu'\n",
        "    print('Device:', device)\n",
        "\n",
        "    model.to(device)\n",
        "\n",
        "    sentences = df['title'].tolist()\n",
        "    ids = df['product_id'].tolist()\n",
        "\n",
        "    sentence_embeddings = []\n",
        "\n",
        "    print(\"Извлечение признаков:\")\n",
        "    for sen in tqdm(sentences):\n",
        "        encoded_input = tokenizer([sen], padding=True, truncation=True, max_length=15, return_tensors='pt').to(device)\n",
        "        with torch.no_grad():\n",
        "            model_output = model(**encoded_input)\n",
        "        sentence_embeddings.append(mean_pooling(model_output, encoded_input['attention_mask']).tolist()[0])\n",
        "\n",
        "    print(\"\\n\", 'Сохраниние признаков:')\n",
        "    for i, emb in enumerate(sentence_embeddings):\n",
        "        sentence_embeddings[i].append(ids[i])\n",
        "    \n",
        "    np.save(path + '/title_features', sentence_embeddings)\n",
        "    print(\"Признаки сохранены в \", path)"
      ],
      "metadata": {
        "id": "VYHJQ6mBg7Dt"
      },
      "execution_count": null,
      "outputs": []
    },
    {
      "cell_type": "code",
      "source": [
        "train = pd.read_parquet('/content/data/train.parquet')\n",
        "\n",
        "def parse_text_fields(df):\n",
        "    # преобразование str в dict\n",
        "    df['text_fields'] = df['text_fields'].apply(literal_eval)\n",
        "\n",
        "    # преобразование text_fields в отдельные столбцы\n",
        "    for key in df['text_fields'].iloc[0].keys():\n",
        "        df[key] = df['text_fields'].apply(lambda x: x[key])\n",
        "\n",
        "parse_text_fields(train)"
      ],
      "metadata": {
        "id": "t893Huh_hI6j"
      },
      "execution_count": null,
      "outputs": []
    },
    {
      "cell_type": "code",
      "source": [
        "tokenizer = AutoTokenizer.from_pretrained(\"sberbank-ai/sbert_large_mt_nlu_ru\")\n",
        "model = AutoModel.from_pretrained(\"sberbank-ai/sbert_large_mt_nlu_ru\")\n",
        "\n",
        "create_title_features(model, tokenizer, train)"
      ],
      "metadata": {
        "colab": {
          "base_uri": "https://localhost:8080/"
        },
        "id": "nQaKEBy6hQzj",
        "outputId": "db0e693d-8e46-48a7-d6a3-2993daa59b0c"
      },
      "execution_count": null,
      "outputs": [
        {
          "output_type": "stream",
          "name": "stdout",
          "text": [
            "Device: cuda:0\n",
            "Извлечение признаков:\n"
          ]
        },
        {
          "output_type": "stream",
          "name": "stderr",
          "text": [
            "100%|██████████| 91120/91120 [31:32<00:00, 48.14it/s]\n"
          ]
        },
        {
          "output_type": "stream",
          "name": "stdout",
          "text": [
            "\n",
            " Сохраниние признаков:\n",
            "Признаки сохранены в  /content\n"
          ]
        }
      ]
    },
    {
      "cell_type": "markdown",
      "source": [
        "## Проверка валидности признаков"
      ],
      "metadata": {
        "id": "KUpXjz86eU9L"
      }
    },
    {
      "cell_type": "code",
      "source": [
        "from sklearn.metrics import f1_score\n",
        "from sklearn.model_selection import train_test_split\n",
        "from sklearn.neighbors import KNeighborsClassifier"
      ],
      "metadata": {
        "id": "uOkd9gMuz0DZ"
      },
      "execution_count": null,
      "outputs": []
    },
    {
      "cell_type": "code",
      "source": [
        "title = np.load('/content/title_features.npy')\n",
        "train = pd.read_parquet('/content/data/train.parquet')\n",
        "\n",
        "columns=[]\n",
        "for i in range(1024):\n",
        "    columns.append(f'ttl_mf_{i}')\n",
        "columns.append('product_id')\n",
        "\n",
        "title_features = pd.DataFrame(data=title, columns=columns)\n",
        "data = pd.merge(title_features, train, on='product_id')"
      ],
      "metadata": {
        "id": "cQn8jyu1zIdR"
      },
      "execution_count": null,
      "outputs": []
    },
    {
      "cell_type": "code",
      "source": [
        "X = data[list(set(data.columns.tolist()) - set(train.columns.tolist()))]\n",
        "y = data['category_id']\n",
        "\n",
        "X_train, X_test, y_train, y_test = train_test_split(X, y, test_size=0.2, shuffle=True)\n",
        "\n",
        "# иногда некоторые классы не попадают в train выборку\n",
        "assert len(y_train.unique()) == 874, 'Не все классы попали в train выборку'"
      ],
      "metadata": {
        "id": "7uDbAqj00JkA"
      },
      "execution_count": null,
      "outputs": []
    },
    {
      "cell_type": "code",
      "source": [
        "model = KNeighborsClassifier(n_neighbors=5)\n",
        "model.fit(X_train, y_train)\n",
        "print(\"F1 score:\", f1_score(y_test, model.predict(X_test), average='weighted'))"
      ],
      "metadata": {
        "colab": {
          "base_uri": "https://localhost:8080/"
        },
        "id": "7ps28PAS0adi",
        "outputId": "a3c65f95-3bc4-421d-a3f2-f14bf62a10c4"
      },
      "execution_count": null,
      "outputs": [
        {
          "output_type": "stream",
          "name": "stdout",
          "text": [
            "F1 score: 0.7445809076424476\n"
          ]
        }
      ]
    },
    {
      "cell_type": "markdown",
      "source": [
        "# Объединение признаков и обучение\n"
      ],
      "metadata": {
        "id": "-lj_0QjxZcNJ"
      }
    },
    {
      "cell_type": "code",
      "source": [
        "!pip install --upgrade -q gdown \n",
        "\n",
        "!mkdir /content/data/\n",
        "!mkdir /content/data/features\n",
        "\n",
        "!gdown 14dYvGXRVD1Prtr7SXHrwO6ZpfGk0F5aT\n",
        "\n",
        "%cd /content/data/features\n",
        "!gdown 1OwHFAeESSHQ-wn4GUllww1FqHxA2tsSo \n",
        "!gdown 1cExxk3GT3NOY27osxcPJpkartjz6rZ71\n",
        "!gdown 1SJR4gENw3wdJ9SmnQ6BeKdz7agFllAX6\n",
        "\n",
        "!unzip /content/internship_2023.zip -d /content/data/"
      ],
      "metadata": {
        "id": "R1Nn-ZS0wFgi"
      },
      "execution_count": null,
      "outputs": []
    },
    {
      "cell_type": "code",
      "source": [
        "import pandas as pd\n",
        "import numpy as np\n",
        "from ast import literal_eval\n",
        "\n",
        "from sklearn.metrics import f1_score\n",
        "from sklearn.model_selection import train_test_split\n",
        "from sklearn.neighbors import KNeighborsClassifier\n",
        "from sklearn.neural_network import MLPClassifier"
      ],
      "metadata": {
        "id": "o-g95JDgyMNW"
      },
      "execution_count": 10,
      "outputs": []
    },
    {
      "cell_type": "code",
      "source": [
        "im_features = pd.read_csv('/content/data/features/features.csv')\n",
        "text_features = np.load('/content/data/features/text_features.npy')\n",
        "title_features = np.load('/content/data/features/title_features.npy')\n",
        "train = pd.read_parquet('/content/data/train.parquet')"
      ],
      "metadata": {
        "id": "TCkXglbHbbyM"
      },
      "execution_count": 11,
      "outputs": []
    },
    {
      "cell_type": "code",
      "source": [
        "def preprossesing(img_features, text_features, title_features, data):    \n",
        "    \"\"\"Вход:\n",
        "        img_features - массив фичей изображений\n",
        "        text_features - массив фичей описаний\n",
        "        title_features - массив фичей названий\n",
        "        data - табличные данные\n",
        "      Выход:\n",
        "        pd.DataFrame - сконкатинированные данные \"\"\"\n",
        "        \n",
        "   # инициализация столбцов для text_features\n",
        "    columns=[]\n",
        "    for i in range(text_features.shape[1]-1):\n",
        "        columns.append(f'txt_mf_{i}')\n",
        "    columns.append('product_id')\n",
        "    text_features = pd.DataFrame(data=text_features,columns=columns)\n",
        "\n",
        "\n",
        "    # инициализация столбцов для title_features\n",
        "    columns=[]\n",
        "    for i in range(title_features.shape[1]-1):\n",
        "        columns.append(f'ttl_mf_{i}')\n",
        "    columns.append('product_id')\n",
        "    title_features = pd.DataFrame(data=title_features,columns=columns)\n",
        "\n",
        "\n",
        "    # преобразование str в dict\n",
        "    data['text_fields'] = data['text_fields'].apply(literal_eval)\n",
        "\n",
        "    # преобразование text_fields в отдельные столбцы\n",
        "    for key in data['text_fields'].iloc[0].keys():\n",
        "        data[key] = data['text_fields'].apply(lambda x: x[key])\n",
        "\n",
        "    data.drop(['shop_id', 'shop_title', 'text_fields',\n",
        "               'category_name', 'title', 'description', 'rating'], axis=1, inplace=True)\n",
        "    \n",
        "    # преобразуем некоторые признаки в категориальные\n",
        "    data['attributes'] = data['attributes'].apply(lambda x: x==[])\n",
        "    data['custom_characteristics'] = data['custom_characteristics'].apply(lambda x: x=={})\n",
        "    data['defined_characteristics'] = data['defined_characteristics'].apply(lambda x: x=={})\n",
        "    data['filters'] = data['filters'].apply(lambda x: x=={})\n",
        "\n",
        "    data = pd.get_dummies(data, columns=['sale', 'attributes', 'custom_characteristics', \n",
        "                                         'defined_characteristics', 'filters'])\n",
        "    \n",
        "    data = pd.merge(data, text_features, on='product_id')\n",
        "    data = pd.merge(data, img_features, on='product_id')\n",
        "    data = pd.merge(data, title_features, on='product_id')\n",
        "    data.drop('product_id', axis=1, inplace=True)\n",
        "\n",
        "    return data"
      ],
      "metadata": {
        "id": "-kOtp6sF2Eqp"
      },
      "execution_count": 12,
      "outputs": []
    },
    {
      "cell_type": "code",
      "source": [
        "data = preprossesing(im_features, text_features, title_features, train)\n",
        "\n",
        "# Сразу добавим дубликаты классов, которые имеют только один пример\n",
        "data = pd.concat([data,\n",
        "                  data[data['category_id']==11549],\n",
        "                  data[data['category_id']==11875],\n",
        "                  data[data['category_id']==12836],\n",
        "                  data[data['category_id']==12901]])\n",
        "\n",
        "\n",
        "X = data[list(set(data.columns.tolist()) - set(['category_id']))]\n",
        "y = data['category_id']\n",
        "\n",
        "X_train, X_test, y_train, y_test = train_test_split(X, y, stratify=y, test_size=0.15, shuffle=True)\n",
        "\n",
        "# очистим память\n",
        "del im_features\n",
        "del text_features\n",
        "del title_features\n",
        "del train\n",
        "del data\n",
        "del X\n",
        "del y"
      ],
      "metadata": {
        "id": "yzpjL5RZ2VeL"
      },
      "execution_count": 13,
      "outputs": []
    },
    {
      "cell_type": "code",
      "source": [
        "model = KNeighborsClassifier()\n",
        "model.fit(X_train, y_train)\n",
        "print(\"KNN F1 score:\", f1_score(y_test, model.predict(X_test), average='weighted'))"
      ],
      "metadata": {
        "colab": {
          "base_uri": "https://localhost:8080/"
        },
        "id": "z-7PH3VrVbA3",
        "outputId": "de4341ea-03bf-48ea-f7ee-6ab1f7d4ac3a"
      },
      "execution_count": 14,
      "outputs": [
        {
          "output_type": "stream",
          "name": "stdout",
          "text": [
            "KNN F1 score: 0.7895025461703151\n"
          ]
        }
      ]
    },
    {
      "cell_type": "code",
      "source": [
        "# эксперементы показали, что оптимально использовать один скрытый слой на 2500 нейронов\n",
        "# большее количество итераций приводит к переобучению\n",
        "model = MLPClassifier(hidden_layer_sizes=[2500], max_iter=10, verbose=True, early_stopping=True)\n",
        "model.fit(X_train, y_train)\n",
        "None"
      ],
      "metadata": {
        "colab": {
          "base_uri": "https://localhost:8080/"
        },
        "id": "AMIdgrCqyFrg",
        "outputId": "07aeb097-b873-41dc-82a6-6b5147c77704"
      },
      "execution_count": 15,
      "outputs": [
        {
          "output_type": "stream",
          "name": "stdout",
          "text": [
            "Iteration 1, loss = 1.40387280\n",
            "Validation score: 0.795378\n",
            "Iteration 2, loss = 0.53104911\n",
            "Validation score: 0.816034\n",
            "Iteration 3, loss = 0.36332067\n",
            "Validation score: 0.813065\n",
            "Iteration 4, loss = 0.26229001\n",
            "Validation score: 0.820811\n",
            "Iteration 5, loss = 0.19251708\n",
            "Validation score: 0.822618\n",
            "Iteration 6, loss = 0.15402187\n",
            "Validation score: 0.823264\n",
            "Iteration 7, loss = 0.12235820\n",
            "Validation score: 0.826620\n",
            "Iteration 8, loss = 0.10387153\n",
            "Validation score: 0.824813\n",
            "Iteration 9, loss = 0.10295827\n",
            "Validation score: 0.815776\n",
            "Iteration 10, loss = 0.10090559\n",
            "Validation score: 0.824038\n"
          ]
        },
        {
          "output_type": "stream",
          "name": "stderr",
          "text": [
            "/usr/local/lib/python3.9/dist-packages/sklearn/neural_network/_multilayer_perceptron.py:686: ConvergenceWarning: Stochastic Optimizer: Maximum iterations (10) reached and the optimization hasn't converged yet.\n",
            "  warnings.warn(\n"
          ]
        }
      ]
    },
    {
      "cell_type": "code",
      "source": [
        "print(\"MLP F1 score:\", f1_score(y_test, model.predict(X_test), average='weighted'))"
      ],
      "metadata": {
        "colab": {
          "base_uri": "https://localhost:8080/"
        },
        "id": "KhN0J5_MzGEG",
        "outputId": "828f65fa-f351-4b58-a616-6d37b2ebdf4c"
      },
      "execution_count": 16,
      "outputs": [
        {
          "output_type": "stream",
          "name": "stdout",
          "text": [
            "MLP F1 score: 0.8275636571927997\n"
          ]
        }
      ]
    },
    {
      "cell_type": "markdown",
      "source": [
        "# Submit"
      ],
      "metadata": {
        "id": "vsFwMWFhxYnn"
      }
    },
    {
      "cell_type": "code",
      "source": [
        "!pip install --upgrade -q gdown\n",
        "!pip install html2text -q\n",
        "!pip install transformers -q\n",
        "!pip install timm -q\n",
        "\n",
        "!mkdir /content/data/\n",
        "!gdown 14dYvGXRVD1Prtr7SXHrwO6ZpfGk0F5aT\n",
        "!unzip /content/internship_2023.zip -d /content/data/"
      ],
      "metadata": {
        "id": "GBa4aiwqxbaW"
      },
      "execution_count": null,
      "outputs": []
    },
    {
      "cell_type": "code",
      "source": [
        "import pandas as pd\n",
        "import numpy as np\n",
        "from ast import literal_eval\n",
        "from html2text import HTML2Text\n",
        "\n",
        "from tqdm import tqdm\n",
        "from glob import glob\n",
        "import os\n",
        "\n",
        "import torch\n",
        "import timm\n",
        "from PIL import Image\n",
        "import torchvision.transforms as transforms\n",
        "from torch.utils.data import Dataset, DataLoader\n",
        "\n",
        "from transformers import AutoTokenizer, AutoModel"
      ],
      "metadata": {
        "id": "84AW81mbxy4T"
      },
      "execution_count": 2,
      "outputs": []
    },
    {
      "cell_type": "code",
      "source": [
        "device = 'cuda:0' if torch.cuda.is_available() else 'cpu'\n",
        "PATH2SAVE = '/content/test_features'\n",
        "\n",
        "# инициализация модели для обработки фотографий\n",
        "img_model = timm.create_model('maxxvit_rmlp_nano_rw_256', num_classes=0, pretrained=True)\n",
        "img_model.to(device)\n",
        "img_model.eval()\n",
        "\n",
        "transform = transforms.Compose([transforms.PILToTensor(),\n",
        "                                transforms.ConvertImageDtype(torch.float),\n",
        "                                transforms.Normalize([0.485, 0.456, 0.406], [0.229, 0.224, 0.225])])\n",
        "\n",
        "# инициализация датафрейма\n",
        "test = pd.read_parquet(\"/content/data/test.parquet\")\n",
        "# инициализация датасета фотографий, датасет был написан ранее\n",
        "image_dataset = ProductImagesDataset('/content/data/images/test', transform=transform)\n",
        "\n",
        "# создание признаков\n",
        "create_image_features(image_dataset, img_model, device, PATH2SAVE)"
      ],
      "metadata": {
        "id": "ElbvRVgux_k8",
        "colab": {
          "base_uri": "https://localhost:8080/"
        },
        "outputId": "070b55de-598f-43bb-d165-dfe79f71d896"
      },
      "execution_count": null,
      "outputs": [
        {
          "output_type": "stream",
          "name": "stdout",
          "text": [
            "Обработка изображений\n"
          ]
        },
        {
          "output_type": "stream",
          "name": "stderr",
          "text": [
            "100%|██████████| 3372/3372 [07:23<00:00,  7.61it/s]\n"
          ]
        }
      ]
    },
    {
      "cell_type": "code",
      "source": [
        "parser = HTML2Text()\n",
        "parser.escape_snob = True\n",
        "parser.ignore_anchors = True\n",
        "parser.skip_internal_links = True\n",
        "parser.ignore_links = True\n",
        "parser.ignore_images = True\n",
        "\n",
        "# преобразование текстовых данных функцией, которую инициализировали ранее\n",
        "parse_text_fields(test, parser)\n",
        "\n",
        "# инициализация токенайзера и модели для работы с текстом\n",
        "tokenizer = AutoTokenizer.from_pretrained(\"sberbank-ai/sbert_large_mt_nlu_ru\")\n",
        "model = AutoModel.from_pretrained(\"sberbank-ai/sbert_large_mt_nlu_ru\")\n",
        "\n",
        "# создание признаков\n",
        "# функции инициализировались ранее\n",
        "create_decription_features(model, tokenizer, test, PATH2SAVE)\n",
        "create_title_features(model, tokenizer, test, PATH2SAVE)"
      ],
      "metadata": {
        "colab": {
          "base_uri": "https://localhost:8080/",
          "height": 385,
          "referenced_widgets": [
            "51bbd2bbaaa7444cb5479a03492a304d",
            "fc19b9cd1ee14145ba5bf7461214faea",
            "5a70046ed5ef4a8ca59e8e22548deb47",
            "0302467aa0f3485583d6bf3eed8a1ac7",
            "52294674e6844bcb9e04fa34c213f5e4",
            "d237f25afe24482791f21eaefafa74d5",
            "c0cdd2b088314fd099d104c6e58ff43a",
            "10d22b3212cb4618a1632b82106c28f3",
            "651945b157a147b8995d07dda1b992f7",
            "17ea5473768b49069bcc952eea672bf3",
            "d471af0518994f9ca864810903f9a902",
            "5cea33aea58148f4a2b22f1b23bc102a",
            "365acc37d0dd4ebc967fa11e9c73de24",
            "63da1baee97d4a8896a9a2a15cbd30c7",
            "89ccc63014654ca2b02dc58b8ad77da6",
            "3f09dbdeea764d7cacac8ca73a86615d",
            "e63774de43d8462fa08687f58c2c3810",
            "5bd8d25a76624e20a8df3f17a1154d3a",
            "02bc1fb9ee804461bf8e30e359b8963d",
            "9338c5661f1d40fbbf6213f292106981",
            "758fda1113ce436da9a02c88e12887d4",
            "6fe6590c4f7d4251867dd885f5d8ce3e",
            "bec71374457c4b14a423aba5cfdd6296",
            "89bfedcb07eb485186026a0f6608f7e0",
            "5bf836f2bdce40feb5eb2b6ab11ab5dd",
            "8cb13695813e45ec989092c870004b83",
            "ff2e89001dc64882b6bae31744ff31ed",
            "3291662be2da447ba4f55d33d5f59f4a",
            "3b9684aca35348b4927eb32bc341fd5d",
            "4dbfd55a759c48258f83e9f637644db1",
            "ccd36412be0d4b4ebb9e67095eb11990",
            "8100dea56dd449f88e52cfd9eda1a6c6",
            "ee4a03cd058246ad944e30d1021ccd0a",
            "61940c76aff147419d78a9d956294685",
            "b543cd6765a34873afcd85b5ac1698b4",
            "8f123a85e11340eb933870d03b652ea2",
            "e6ec65bd6a634b15bd1ca1bb8f917c60",
            "3053dda2ca304758a7c8d58f482cd819",
            "40ad910b49d8413eaf53e0e0294fe8d5",
            "224f6b43f5ff4910bfb868666ed1a15e",
            "5816d384564d404d9415308939688752",
            "cdec5db46439419c8bad4b2162ca56f6",
            "b0a34569d260479f9c0d30b21f6e0eb9",
            "5be18c89931d4b1e9b01664f48b5a78d",
            "ab587aff856845009bc2bd612200800d",
            "e3ce74509a1a40c692cc052f414887fe",
            "38c3619aa043402d9d30671f3b439fa3",
            "3c86d59db9dd465c8c2182a33a0517fc",
            "7573d47f1f1f4d96968bf9a3a288f5ef",
            "ca621d3ec9474a0cae14f2ded8cc074c",
            "81a0571cc4b247319fa9ff3b23b63a5d",
            "568afc61363944268e93686996d65243",
            "00080128c88145719f398cb82a8465d1",
            "c8b083115f0d49f5822543db623b3627",
            "c641ec9c8f12400a9cc240b3fac2264f"
          ]
        },
        "id": "l9VdZncR1Lh4",
        "outputId": "e29c3262-0e19-4ed4-c5e2-c734182411e8"
      },
      "execution_count": null,
      "outputs": [
        {
          "output_type": "display_data",
          "data": {
            "text/plain": [
              "Downloading (…)okenizer_config.json:   0%|          | 0.00/331 [00:00<?, ?B/s]"
            ],
            "application/vnd.jupyter.widget-view+json": {
              "version_major": 2,
              "version_minor": 0,
              "model_id": "51bbd2bbaaa7444cb5479a03492a304d"
            }
          },
          "metadata": {}
        },
        {
          "output_type": "display_data",
          "data": {
            "text/plain": [
              "Downloading (…)lve/main/config.json:   0%|          | 0.00/752 [00:00<?, ?B/s]"
            ],
            "application/vnd.jupyter.widget-view+json": {
              "version_major": 2,
              "version_minor": 0,
              "model_id": "5cea33aea58148f4a2b22f1b23bc102a"
            }
          },
          "metadata": {}
        },
        {
          "output_type": "display_data",
          "data": {
            "text/plain": [
              "Downloading (…)solve/main/vocab.txt:   0%|          | 0.00/1.78M [00:00<?, ?B/s]"
            ],
            "application/vnd.jupyter.widget-view+json": {
              "version_major": 2,
              "version_minor": 0,
              "model_id": "bec71374457c4b14a423aba5cfdd6296"
            }
          },
          "metadata": {}
        },
        {
          "output_type": "display_data",
          "data": {
            "text/plain": [
              "Downloading (…)cial_tokens_map.json:   0%|          | 0.00/112 [00:00<?, ?B/s]"
            ],
            "application/vnd.jupyter.widget-view+json": {
              "version_major": 2,
              "version_minor": 0,
              "model_id": "61940c76aff147419d78a9d956294685"
            }
          },
          "metadata": {}
        },
        {
          "output_type": "display_data",
          "data": {
            "text/plain": [
              "Downloading pytorch_model.bin:   0%|          | 0.00/1.71G [00:00<?, ?B/s]"
            ],
            "application/vnd.jupyter.widget-view+json": {
              "version_major": 2,
              "version_minor": 0,
              "model_id": "ab587aff856845009bc2bd612200800d"
            }
          },
          "metadata": {}
        },
        {
          "output_type": "stream",
          "name": "stdout",
          "text": [
            "Device: cuda:0\n",
            "Извлечение признаков:\n"
          ]
        },
        {
          "output_type": "stream",
          "name": "stderr",
          "text": [
            "100%|██████████| 16860/16860 [10:30<00:00, 26.75it/s]\n"
          ]
        },
        {
          "output_type": "stream",
          "name": "stdout",
          "text": [
            "\n",
            " Сохраниние признаков:\n",
            "Признаки сохранены в  /content/test_features\n",
            "Device: cuda:0\n",
            "Извлечение признаков:\n"
          ]
        },
        {
          "output_type": "stream",
          "name": "stderr",
          "text": [
            "100%|██████████| 16860/16860 [06:50<00:00, 41.06it/s]\n"
          ]
        },
        {
          "output_type": "stream",
          "name": "stdout",
          "text": [
            "\n",
            " Сохраниние признаков:\n",
            "Признаки сохранены в  /content/test_features\n"
          ]
        }
      ]
    },
    {
      "cell_type": "code",
      "source": [
        "# подгрузка данных\n",
        "image = np.load('/content/test_features/image_features.npy')\n",
        "text = np.load('/content/test_features/text_features.npy')\n",
        "title = np.load('/content/test_features/title_features.npy')\n",
        "test = pd.read_parquet('/content/data/test.parquet')"
      ],
      "metadata": {
        "id": "gFEDhPhwMCDD"
      },
      "execution_count": 50,
      "outputs": []
    },
    {
      "cell_type": "code",
      "source": [
        "# измененная функция препроцессинга, отличая:\n",
        "# 1. Ожидаемый формат для img_features - np.array\n",
        "# 2. Не удаляет столбец product_id \n",
        "def preprossesing_test(img_features, text_features, title_features, data):\n",
        "    \"\"\"Вход:\n",
        "        img_features - массив фичей изображений\n",
        "        text_features - массив фичей описаний\n",
        "        title_features - массив фичей названий\n",
        "        data - табличные данные\n",
        "      Выход:\n",
        "        pd.DataFrame - сконкатинированные данные \"\"\"\n",
        "\n",
        "    # инициализация столбцов для img_features\n",
        "    columns=[]\n",
        "    for i in range(img_features.shape[1]-1):\n",
        "        columns.append(f'mf_{i}')\n",
        "    columns.append('product_id')\n",
        "    img_features = pd.DataFrame(data=img_features,columns=columns)    \n",
        "\n",
        "   # инициализация столбцов для text_features\n",
        "    columns=[]\n",
        "    for i in range(text_features.shape[1]-1):\n",
        "        columns.append(f'txt_mf_{i}')\n",
        "    columns.append('product_id')\n",
        "    text_features = pd.DataFrame(data=text_features,columns=columns)\n",
        "\n",
        "\n",
        "    # инициализация столбцов для title_features\n",
        "    columns=[]\n",
        "    for i in range(title_features.shape[1]-1):\n",
        "        columns.append(f'ttl_mf_{i}')\n",
        "    columns.append('product_id')\n",
        "    title_features = pd.DataFrame(data=title_features,columns=columns)\n",
        "\n",
        "    # преобразование str в dict\n",
        "    data['text_fields'] = data['text_fields'].apply(str).apply(literal_eval)\n",
        "\n",
        "    # преобразование text_fields в отдельные столбцы\n",
        "    for key in data['text_fields'].iloc[0].keys():\n",
        "        data[key] = data['text_fields'].apply(lambda x: x[key])\n",
        "\n",
        "    data.drop(['shop_id', 'shop_title', 'text_fields',\n",
        "               'title', 'description', 'rating'], axis=1, inplace=True)\n",
        "\n",
        "    \n",
        "    # преобразуем некоторые признаки в категориальные\n",
        "    data['attributes'] = data['attributes'].apply(lambda x: x==[])\n",
        "    data['custom_characteristics'] = data['custom_characteristics'].apply(lambda x: x=={})\n",
        "    data['defined_characteristics'] = data['defined_characteristics'].apply(lambda x: x=={})\n",
        "    data['filters'] = data['filters'].apply(lambda x: x=={})\n",
        "\n",
        "    data = pd.get_dummies(data, columns=['sale', 'attributes', 'custom_characteristics', \n",
        "                                         'defined_characteristics', 'filters'])\n",
        "\n",
        "    data = pd.merge(data, text_features, on='product_id')\n",
        "    data = pd.merge(data, img_features, on='product_id')\n",
        "    data = pd.merge(data, title_features, on='product_id')\n",
        "\n",
        "    return data"
      ],
      "metadata": {
        "id": "DPbjxUxtqIAt"
      },
      "execution_count": 51,
      "outputs": []
    },
    {
      "cell_type": "code",
      "source": [
        "test_prep = preprossesing_test(image, text, title, test)\n",
        "test_prep['predicted_category_id'] = model.predict(test_prep[X_train.columns])\n",
        "test_prep[['product_id', 'predicted_category_id ']].to_parquet('/content/result.parquet')"
      ],
      "metadata": {
        "id": "D17fH8_VqkPJ"
      },
      "execution_count": 52,
      "outputs": []
    }
  ]
}